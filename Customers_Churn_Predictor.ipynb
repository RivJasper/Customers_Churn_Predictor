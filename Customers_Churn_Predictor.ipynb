{
 "cells": [
  {
   "attachments": {},
   "cell_type": "markdown",
   "metadata": {},
   "source": [
    "# Customers Churn Predictor"
   ]
  },
  {
   "cell_type": "markdown",
   "metadata": {},
   "source": [
    "## Description\n",
    "\n",
    "### Objective\n",
    "\n",
    "`Predicting Churn Customers using Artificial Neural Networks.`\n",
    "\n",
    "### Problem Statement\n",
    "`1. What influences the Churn possibility ?`\n",
    "<br>\n",
    "`2. What is the best model so far ?`\n",
    "<br>\n",
    "`3. How much data is wrongly predicted ?`\n",
    "<br>\n",
    "`4. How to improve the model prediction ?`"
   ]
  },
  {
   "cell_type": "markdown",
   "metadata": {},
   "source": [
    "## Working Area\n",
    "### 1. Import Libraries"
   ]
  },
  {
   "cell_type": "code",
   "execution_count": 1,
   "metadata": {},
   "outputs": [],
   "source": [
    "# Import base libraries\n",
    "import pandas as pd\n",
    "import numpy as np\n",
    "import matplotlib.pyplot as plt\n",
    "import seaborn as sns\n",
    "\n",
    "# Data Splitting\n",
    "from sklearn.model_selection import train_test_split\n",
    "\n",
    "# Data Preprocessing\n",
    "from sklearn.pipeline import Pipeline\n",
    "from sklearn.compose import ColumnTransformer\n",
    "from sklearn.preprocessing import StandardScaler, MinMaxScaler, OrdinalEncoder, OneHotEncoder\n",
    "\n",
    "# Feature selection\n",
    "from sklearn.feature_selection import SelectKBest, f_classif, chi2\n",
    "\n",
    "# Data Imbalance\n",
    "from imblearn.over_sampling import SMOTE\n",
    "\n",
    "# Import model\n",
    "import tensorflow as tf\n",
    "from tensorflow.keras import Model\n",
    "from tensorflow.keras.models import Sequential\n",
    "from tensorflow.keras.layers import Dense, Input, concatenate\n",
    "from pandas.core.internals.concat import concat_arrays\n",
    "\n",
    "# Model Evaluation\n",
    "import tensorflow_addons as tfa\n",
    "from tensorflow_addons.metrics import F1Score\n",
    "from sklearn import metrics\n",
    "from sklearn.metrics import classification_report, confusion_matrix\n",
    "\n",
    "# Model saving\n",
    "import joblib\n",
    "\n",
    "# Ignore the warning notes\n",
    "import warnings\n",
    "warnings.filterwarnings(\"ignore\")"
   ]
  },
  {
   "cell_type": "markdown",
   "metadata": {},
   "source": [
    "### 2. Data Loading"
   ]
  },
  {
   "cell_type": "code",
   "execution_count": 2,
   "metadata": {},
   "outputs": [],
   "source": [
    "# Data loading\n",
    "df = pd.read_csv('Telco-Customer-Churn.csv')"
   ]
  },
  {
   "cell_type": "markdown",
   "metadata": {},
   "source": [
    "Description\n",
    "<br>\n",
    "customerID : Customer ID\n",
    "<br>\n",
    "gender : Male or Female\n",
    "<br>\n",
    "SeniorCitizen : Whether the customer is a senior citizen or not ( 1 = Yes, 0 = No )\n",
    "<br>\n",
    "Partner : Whether the customer has a partner or not ( Yes, No )\n",
    "<br>\n",
    "Dependents : Whether the customer has dependents or not ( Yes, No )\n",
    "<br>\n",
    "tenure : Number of months the customer has stayed with the company\n",
    "<br>\n",
    "PhoneService : Whether the customer has a phone service or not ( Yes, No )\n",
    "<br>\n",
    "MultipleLines : Whether the customer has multiple lines or not ( Yes, No, No phone service )\n",
    "<br>\n",
    "InternetService : Customer’s internet service provider ( DSL, Fiber optic, No )\n",
    "<br>\n",
    "OnlineSecurity : Whether the customer has online security or not ( Yes, No, No internet service )\n",
    "<br>\n",
    "OnlineBackup : Whether the customer has online backup or not ( Yes, No, No internet service )\n",
    "<br>\n",
    "DeviceProtection : Whether the customer has device protection or not ( Yes, No, No internet service )\n",
    "<br>\n",
    "TechSupport : Whether the customer has tech support or not ( Yes, No, No internet service )\n",
    "<br>\n",
    "StreamingTV : Whether the customer has streaming TV or not ( Yes, No, No internet service )\n",
    "<br>\n",
    "StreamingMovies : Whether the customer has streaming movies or not ( Yes, No, No internet service )\n",
    "<br>\n",
    "Contract : The contract term of the customer (Month-to-month, One year, Two year)\n",
    "<br>\n",
    "PaperlessBilling : Whether the customer has paperless billing or not ( Yes, No )\n",
    "<br>\n",
    "PaymentMethod : The customer’s payment method ( Electronic check, Mailed check, Bank transfer (automatic), Credit card (automatic) )\n",
    "<br>\n",
    "MonthlyCharges : The amount charged to the customer monthly\n",
    "<br>\n",
    "TotalCharges : The total amount charged to the customer\n",
    "<br>\n",
    "Churn : Whether the customer churned or not ( Yes or No )"
   ]
  },
  {
   "cell_type": "code",
   "execution_count": 3,
   "metadata": {},
   "outputs": [
    {
     "data": {
      "text/html": [
       "<div>\n",
       "<style scoped>\n",
       "    .dataframe tbody tr th:only-of-type {\n",
       "        vertical-align: middle;\n",
       "    }\n",
       "\n",
       "    .dataframe tbody tr th {\n",
       "        vertical-align: top;\n",
       "    }\n",
       "\n",
       "    .dataframe thead th {\n",
       "        text-align: right;\n",
       "    }\n",
       "</style>\n",
       "<table border=\"1\" class=\"dataframe\">\n",
       "  <thead>\n",
       "    <tr style=\"text-align: right;\">\n",
       "      <th></th>\n",
       "      <th>customerID</th>\n",
       "      <th>gender</th>\n",
       "      <th>SeniorCitizen</th>\n",
       "      <th>Partner</th>\n",
       "      <th>Dependents</th>\n",
       "      <th>tenure</th>\n",
       "      <th>PhoneService</th>\n",
       "      <th>MultipleLines</th>\n",
       "      <th>InternetService</th>\n",
       "      <th>OnlineSecurity</th>\n",
       "      <th>...</th>\n",
       "      <th>DeviceProtection</th>\n",
       "      <th>TechSupport</th>\n",
       "      <th>StreamingTV</th>\n",
       "      <th>StreamingMovies</th>\n",
       "      <th>Contract</th>\n",
       "      <th>PaperlessBilling</th>\n",
       "      <th>PaymentMethod</th>\n",
       "      <th>MonthlyCharges</th>\n",
       "      <th>TotalCharges</th>\n",
       "      <th>Churn</th>\n",
       "    </tr>\n",
       "  </thead>\n",
       "  <tbody>\n",
       "    <tr>\n",
       "      <th>0</th>\n",
       "      <td>7590-VHVEG</td>\n",
       "      <td>Female</td>\n",
       "      <td>0</td>\n",
       "      <td>Yes</td>\n",
       "      <td>No</td>\n",
       "      <td>1</td>\n",
       "      <td>No</td>\n",
       "      <td>No phone service</td>\n",
       "      <td>DSL</td>\n",
       "      <td>No</td>\n",
       "      <td>...</td>\n",
       "      <td>No</td>\n",
       "      <td>No</td>\n",
       "      <td>No</td>\n",
       "      <td>No</td>\n",
       "      <td>Month-to-month</td>\n",
       "      <td>Yes</td>\n",
       "      <td>Electronic check</td>\n",
       "      <td>29.85</td>\n",
       "      <td>29.85</td>\n",
       "      <td>No</td>\n",
       "    </tr>\n",
       "    <tr>\n",
       "      <th>1</th>\n",
       "      <td>5575-GNVDE</td>\n",
       "      <td>Male</td>\n",
       "      <td>0</td>\n",
       "      <td>No</td>\n",
       "      <td>No</td>\n",
       "      <td>34</td>\n",
       "      <td>Yes</td>\n",
       "      <td>No</td>\n",
       "      <td>DSL</td>\n",
       "      <td>Yes</td>\n",
       "      <td>...</td>\n",
       "      <td>Yes</td>\n",
       "      <td>No</td>\n",
       "      <td>No</td>\n",
       "      <td>No</td>\n",
       "      <td>One year</td>\n",
       "      <td>No</td>\n",
       "      <td>Mailed check</td>\n",
       "      <td>56.95</td>\n",
       "      <td>1889.5</td>\n",
       "      <td>No</td>\n",
       "    </tr>\n",
       "    <tr>\n",
       "      <th>2</th>\n",
       "      <td>3668-QPYBK</td>\n",
       "      <td>Male</td>\n",
       "      <td>0</td>\n",
       "      <td>No</td>\n",
       "      <td>No</td>\n",
       "      <td>2</td>\n",
       "      <td>Yes</td>\n",
       "      <td>No</td>\n",
       "      <td>DSL</td>\n",
       "      <td>Yes</td>\n",
       "      <td>...</td>\n",
       "      <td>No</td>\n",
       "      <td>No</td>\n",
       "      <td>No</td>\n",
       "      <td>No</td>\n",
       "      <td>Month-to-month</td>\n",
       "      <td>Yes</td>\n",
       "      <td>Mailed check</td>\n",
       "      <td>53.85</td>\n",
       "      <td>108.15</td>\n",
       "      <td>Yes</td>\n",
       "    </tr>\n",
       "    <tr>\n",
       "      <th>3</th>\n",
       "      <td>7795-CFOCW</td>\n",
       "      <td>Male</td>\n",
       "      <td>0</td>\n",
       "      <td>No</td>\n",
       "      <td>No</td>\n",
       "      <td>45</td>\n",
       "      <td>No</td>\n",
       "      <td>No phone service</td>\n",
       "      <td>DSL</td>\n",
       "      <td>Yes</td>\n",
       "      <td>...</td>\n",
       "      <td>Yes</td>\n",
       "      <td>Yes</td>\n",
       "      <td>No</td>\n",
       "      <td>No</td>\n",
       "      <td>One year</td>\n",
       "      <td>No</td>\n",
       "      <td>Bank transfer (automatic)</td>\n",
       "      <td>42.30</td>\n",
       "      <td>1840.75</td>\n",
       "      <td>No</td>\n",
       "    </tr>\n",
       "    <tr>\n",
       "      <th>4</th>\n",
       "      <td>9237-HQITU</td>\n",
       "      <td>Female</td>\n",
       "      <td>0</td>\n",
       "      <td>No</td>\n",
       "      <td>No</td>\n",
       "      <td>2</td>\n",
       "      <td>Yes</td>\n",
       "      <td>No</td>\n",
       "      <td>Fiber optic</td>\n",
       "      <td>No</td>\n",
       "      <td>...</td>\n",
       "      <td>No</td>\n",
       "      <td>No</td>\n",
       "      <td>No</td>\n",
       "      <td>No</td>\n",
       "      <td>Month-to-month</td>\n",
       "      <td>Yes</td>\n",
       "      <td>Electronic check</td>\n",
       "      <td>70.70</td>\n",
       "      <td>151.65</td>\n",
       "      <td>Yes</td>\n",
       "    </tr>\n",
       "  </tbody>\n",
       "</table>\n",
       "<p>5 rows × 21 columns</p>\n",
       "</div>"
      ],
      "text/plain": [
       "   customerID  gender  SeniorCitizen Partner Dependents  tenure PhoneService  \\\n",
       "0  7590-VHVEG  Female              0     Yes         No       1           No   \n",
       "1  5575-GNVDE    Male              0      No         No      34          Yes   \n",
       "2  3668-QPYBK    Male              0      No         No       2          Yes   \n",
       "3  7795-CFOCW    Male              0      No         No      45           No   \n",
       "4  9237-HQITU  Female              0      No         No       2          Yes   \n",
       "\n",
       "      MultipleLines InternetService OnlineSecurity  ... DeviceProtection  \\\n",
       "0  No phone service             DSL             No  ...               No   \n",
       "1                No             DSL            Yes  ...              Yes   \n",
       "2                No             DSL            Yes  ...               No   \n",
       "3  No phone service             DSL            Yes  ...              Yes   \n",
       "4                No     Fiber optic             No  ...               No   \n",
       "\n",
       "  TechSupport StreamingTV StreamingMovies        Contract PaperlessBilling  \\\n",
       "0          No          No              No  Month-to-month              Yes   \n",
       "1          No          No              No        One year               No   \n",
       "2          No          No              No  Month-to-month              Yes   \n",
       "3         Yes          No              No        One year               No   \n",
       "4          No          No              No  Month-to-month              Yes   \n",
       "\n",
       "               PaymentMethod MonthlyCharges  TotalCharges Churn  \n",
       "0           Electronic check          29.85         29.85    No  \n",
       "1               Mailed check          56.95        1889.5    No  \n",
       "2               Mailed check          53.85        108.15   Yes  \n",
       "3  Bank transfer (automatic)          42.30       1840.75    No  \n",
       "4           Electronic check          70.70        151.65   Yes  \n",
       "\n",
       "[5 rows x 21 columns]"
      ]
     },
     "execution_count": 3,
     "metadata": {},
     "output_type": "execute_result"
    }
   ],
   "source": [
    "# Brief check top 5 rows\n",
    "df.head()"
   ]
  },
  {
   "cell_type": "code",
   "execution_count": 4,
   "metadata": {},
   "outputs": [
    {
     "data": {
      "text/html": [
       "<div>\n",
       "<style scoped>\n",
       "    .dataframe tbody tr th:only-of-type {\n",
       "        vertical-align: middle;\n",
       "    }\n",
       "\n",
       "    .dataframe tbody tr th {\n",
       "        vertical-align: top;\n",
       "    }\n",
       "\n",
       "    .dataframe thead th {\n",
       "        text-align: right;\n",
       "    }\n",
       "</style>\n",
       "<table border=\"1\" class=\"dataframe\">\n",
       "  <thead>\n",
       "    <tr style=\"text-align: right;\">\n",
       "      <th></th>\n",
       "      <th>customerID</th>\n",
       "      <th>gender</th>\n",
       "      <th>SeniorCitizen</th>\n",
       "      <th>Partner</th>\n",
       "      <th>Dependents</th>\n",
       "      <th>tenure</th>\n",
       "      <th>PhoneService</th>\n",
       "      <th>MultipleLines</th>\n",
       "      <th>InternetService</th>\n",
       "      <th>OnlineSecurity</th>\n",
       "      <th>...</th>\n",
       "      <th>DeviceProtection</th>\n",
       "      <th>TechSupport</th>\n",
       "      <th>StreamingTV</th>\n",
       "      <th>StreamingMovies</th>\n",
       "      <th>Contract</th>\n",
       "      <th>PaperlessBilling</th>\n",
       "      <th>PaymentMethod</th>\n",
       "      <th>MonthlyCharges</th>\n",
       "      <th>TotalCharges</th>\n",
       "      <th>Churn</th>\n",
       "    </tr>\n",
       "  </thead>\n",
       "  <tbody>\n",
       "    <tr>\n",
       "      <th>7038</th>\n",
       "      <td>6840-RESVB</td>\n",
       "      <td>Male</td>\n",
       "      <td>0</td>\n",
       "      <td>Yes</td>\n",
       "      <td>Yes</td>\n",
       "      <td>24</td>\n",
       "      <td>Yes</td>\n",
       "      <td>Yes</td>\n",
       "      <td>DSL</td>\n",
       "      <td>Yes</td>\n",
       "      <td>...</td>\n",
       "      <td>Yes</td>\n",
       "      <td>Yes</td>\n",
       "      <td>Yes</td>\n",
       "      <td>Yes</td>\n",
       "      <td>One year</td>\n",
       "      <td>Yes</td>\n",
       "      <td>Mailed check</td>\n",
       "      <td>84.80</td>\n",
       "      <td>1990.5</td>\n",
       "      <td>No</td>\n",
       "    </tr>\n",
       "    <tr>\n",
       "      <th>7039</th>\n",
       "      <td>2234-XADUH</td>\n",
       "      <td>Female</td>\n",
       "      <td>0</td>\n",
       "      <td>Yes</td>\n",
       "      <td>Yes</td>\n",
       "      <td>72</td>\n",
       "      <td>Yes</td>\n",
       "      <td>Yes</td>\n",
       "      <td>Fiber optic</td>\n",
       "      <td>No</td>\n",
       "      <td>...</td>\n",
       "      <td>Yes</td>\n",
       "      <td>No</td>\n",
       "      <td>Yes</td>\n",
       "      <td>Yes</td>\n",
       "      <td>One year</td>\n",
       "      <td>Yes</td>\n",
       "      <td>Credit card (automatic)</td>\n",
       "      <td>103.20</td>\n",
       "      <td>7362.9</td>\n",
       "      <td>No</td>\n",
       "    </tr>\n",
       "    <tr>\n",
       "      <th>7040</th>\n",
       "      <td>4801-JZAZL</td>\n",
       "      <td>Female</td>\n",
       "      <td>0</td>\n",
       "      <td>Yes</td>\n",
       "      <td>Yes</td>\n",
       "      <td>11</td>\n",
       "      <td>No</td>\n",
       "      <td>No phone service</td>\n",
       "      <td>DSL</td>\n",
       "      <td>Yes</td>\n",
       "      <td>...</td>\n",
       "      <td>No</td>\n",
       "      <td>No</td>\n",
       "      <td>No</td>\n",
       "      <td>No</td>\n",
       "      <td>Month-to-month</td>\n",
       "      <td>Yes</td>\n",
       "      <td>Electronic check</td>\n",
       "      <td>29.60</td>\n",
       "      <td>346.45</td>\n",
       "      <td>No</td>\n",
       "    </tr>\n",
       "    <tr>\n",
       "      <th>7041</th>\n",
       "      <td>8361-LTMKD</td>\n",
       "      <td>Male</td>\n",
       "      <td>1</td>\n",
       "      <td>Yes</td>\n",
       "      <td>No</td>\n",
       "      <td>4</td>\n",
       "      <td>Yes</td>\n",
       "      <td>Yes</td>\n",
       "      <td>Fiber optic</td>\n",
       "      <td>No</td>\n",
       "      <td>...</td>\n",
       "      <td>No</td>\n",
       "      <td>No</td>\n",
       "      <td>No</td>\n",
       "      <td>No</td>\n",
       "      <td>Month-to-month</td>\n",
       "      <td>Yes</td>\n",
       "      <td>Mailed check</td>\n",
       "      <td>74.40</td>\n",
       "      <td>306.6</td>\n",
       "      <td>Yes</td>\n",
       "    </tr>\n",
       "    <tr>\n",
       "      <th>7042</th>\n",
       "      <td>3186-AJIEK</td>\n",
       "      <td>Male</td>\n",
       "      <td>0</td>\n",
       "      <td>No</td>\n",
       "      <td>No</td>\n",
       "      <td>66</td>\n",
       "      <td>Yes</td>\n",
       "      <td>No</td>\n",
       "      <td>Fiber optic</td>\n",
       "      <td>Yes</td>\n",
       "      <td>...</td>\n",
       "      <td>Yes</td>\n",
       "      <td>Yes</td>\n",
       "      <td>Yes</td>\n",
       "      <td>Yes</td>\n",
       "      <td>Two year</td>\n",
       "      <td>Yes</td>\n",
       "      <td>Bank transfer (automatic)</td>\n",
       "      <td>105.65</td>\n",
       "      <td>6844.5</td>\n",
       "      <td>No</td>\n",
       "    </tr>\n",
       "  </tbody>\n",
       "</table>\n",
       "<p>5 rows × 21 columns</p>\n",
       "</div>"
      ],
      "text/plain": [
       "      customerID  gender  SeniorCitizen Partner Dependents  tenure  \\\n",
       "7038  6840-RESVB    Male              0     Yes        Yes      24   \n",
       "7039  2234-XADUH  Female              0     Yes        Yes      72   \n",
       "7040  4801-JZAZL  Female              0     Yes        Yes      11   \n",
       "7041  8361-LTMKD    Male              1     Yes         No       4   \n",
       "7042  3186-AJIEK    Male              0      No         No      66   \n",
       "\n",
       "     PhoneService     MultipleLines InternetService OnlineSecurity  ...  \\\n",
       "7038          Yes               Yes             DSL            Yes  ...   \n",
       "7039          Yes               Yes     Fiber optic             No  ...   \n",
       "7040           No  No phone service             DSL            Yes  ...   \n",
       "7041          Yes               Yes     Fiber optic             No  ...   \n",
       "7042          Yes                No     Fiber optic            Yes  ...   \n",
       "\n",
       "     DeviceProtection TechSupport StreamingTV StreamingMovies        Contract  \\\n",
       "7038              Yes         Yes         Yes             Yes        One year   \n",
       "7039              Yes          No         Yes             Yes        One year   \n",
       "7040               No          No          No              No  Month-to-month   \n",
       "7041               No          No          No              No  Month-to-month   \n",
       "7042              Yes         Yes         Yes             Yes        Two year   \n",
       "\n",
       "     PaperlessBilling              PaymentMethod MonthlyCharges  TotalCharges  \\\n",
       "7038              Yes               Mailed check          84.80        1990.5   \n",
       "7039              Yes    Credit card (automatic)         103.20        7362.9   \n",
       "7040              Yes           Electronic check          29.60        346.45   \n",
       "7041              Yes               Mailed check          74.40         306.6   \n",
       "7042              Yes  Bank transfer (automatic)         105.65        6844.5   \n",
       "\n",
       "     Churn  \n",
       "7038    No  \n",
       "7039    No  \n",
       "7040    No  \n",
       "7041   Yes  \n",
       "7042    No  \n",
       "\n",
       "[5 rows x 21 columns]"
      ]
     },
     "execution_count": 4,
     "metadata": {},
     "output_type": "execute_result"
    }
   ],
   "source": [
    "# Brief check bottom 5 rows\n",
    "df.tail()"
   ]
  },
  {
   "cell_type": "code",
   "execution_count": 5,
   "metadata": {},
   "outputs": [
    {
     "name": "stdout",
     "output_type": "stream",
     "text": [
      "<class 'pandas.core.frame.DataFrame'>\n",
      "RangeIndex: 7043 entries, 0 to 7042\n",
      "Data columns (total 21 columns):\n",
      " #   Column            Non-Null Count  Dtype  \n",
      "---  ------            --------------  -----  \n",
      " 0   customerID        7043 non-null   object \n",
      " 1   gender            7043 non-null   object \n",
      " 2   SeniorCitizen     7043 non-null   int64  \n",
      " 3   Partner           7043 non-null   object \n",
      " 4   Dependents        7043 non-null   object \n",
      " 5   tenure            7043 non-null   int64  \n",
      " 6   PhoneService      7043 non-null   object \n",
      " 7   MultipleLines     7043 non-null   object \n",
      " 8   InternetService   7043 non-null   object \n",
      " 9   OnlineSecurity    7043 non-null   object \n",
      " 10  OnlineBackup      7043 non-null   object \n",
      " 11  DeviceProtection  7043 non-null   object \n",
      " 12  TechSupport       7043 non-null   object \n",
      " 13  StreamingTV       7043 non-null   object \n",
      " 14  StreamingMovies   7043 non-null   object \n",
      " 15  Contract          7043 non-null   object \n",
      " 16  PaperlessBilling  7043 non-null   object \n",
      " 17  PaymentMethod     7043 non-null   object \n",
      " 18  MonthlyCharges    7043 non-null   float64\n",
      " 19  TotalCharges      7043 non-null   object \n",
      " 20  Churn             7043 non-null   object \n",
      "dtypes: float64(1), int64(2), object(18)\n",
      "memory usage: 1.1+ MB\n"
     ]
    }
   ],
   "source": [
    "# Checking whether the data type is matches the description\n",
    "df.info()"
   ]
  },
  {
   "cell_type": "markdown",
   "metadata": {},
   "source": [
    "Statement :<br>\n",
    "All columns are in the correct type, except TotalCharges."
   ]
  },
  {
   "cell_type": "code",
   "execution_count": 6,
   "metadata": {},
   "outputs": [],
   "source": [
    "# Convert TotalCharges type from string to number\n",
    "df['TotalCharges'] = pd.to_numeric(df['TotalCharges'], errors='coerce')"
   ]
  },
  {
   "cell_type": "code",
   "execution_count": 7,
   "metadata": {},
   "outputs": [],
   "source": [
    "# Drop the duplicate rows\n",
    "df = df.drop_duplicates()"
   ]
  },
  {
   "cell_type": "code",
   "execution_count": 8,
   "metadata": {},
   "outputs": [],
   "source": [
    "# Drop customerID\n",
    "df = df.drop('customerID', axis = 1)"
   ]
  },
  {
   "cell_type": "code",
   "execution_count": 9,
   "metadata": {},
   "outputs": [
    {
     "data": {
      "text/plain": [
       "gender               0\n",
       "SeniorCitizen        0\n",
       "Partner              0\n",
       "Dependents           0\n",
       "tenure               0\n",
       "PhoneService         0\n",
       "MultipleLines        0\n",
       "InternetService      0\n",
       "OnlineSecurity       0\n",
       "OnlineBackup         0\n",
       "DeviceProtection     0\n",
       "TechSupport          0\n",
       "StreamingTV          0\n",
       "StreamingMovies      0\n",
       "Contract             0\n",
       "PaperlessBilling     0\n",
       "PaymentMethod        0\n",
       "MonthlyCharges       0\n",
       "TotalCharges        11\n",
       "Churn                0\n",
       "dtype: int64"
      ]
     },
     "execution_count": 9,
     "metadata": {},
     "output_type": "execute_result"
    }
   ],
   "source": [
    "# Check number of rows with missing values\n",
    "df.isnull().sum()"
   ]
  },
  {
   "cell_type": "markdown",
   "metadata": {},
   "source": [
    "Statement :<br>\n",
    "11 rows with missing values founded in TotalCharges column."
   ]
  },
  {
   "cell_type": "code",
   "execution_count": 10,
   "metadata": {},
   "outputs": [
    {
     "name": "stdout",
     "output_type": "stream",
     "text": [
      "0.16 % from dataset, is null rows.\n"
     ]
    }
   ],
   "source": [
    "# Check the composition null rows\n",
    "print(round(df['TotalCharges'].isnull().sum() / len(df) * 100,2), '% from dataset, is null rows.')"
   ]
  },
  {
   "cell_type": "markdown",
   "metadata": {},
   "source": [
    "Statement :<br>\n",
    "Since total number of missing values row is less than 5% of overall dataset, therefore rows with missing values will be terminated.<br>\n",
    "Alternatively, check the data distribution and fill with mean if the skewness value is between -0.5 to 0.5 or else fill it with median value."
   ]
  },
  {
   "cell_type": "code",
   "execution_count": 11,
   "metadata": {},
   "outputs": [],
   "source": [
    "# Drop the missing value rows from dataframe\n",
    "df = df.dropna()"
   ]
  },
  {
   "cell_type": "markdown",
   "metadata": {},
   "source": [
    "### 3. Exploratory Data Analysis (EDA)"
   ]
  },
  {
   "cell_type": "code",
   "execution_count": 12,
   "metadata": {},
   "outputs": [],
   "source": [
    "# Make function to calculate the column composition\n",
    "def PieComposition(dataframe, column):\n",
    "    palette_color = sns.color_palette('muted')\n",
    "    data = {}\n",
    "    freq = {}\n",
    "    datalen = len(dataframe[column].unique())\n",
    "    x = np.arange(datalen)\n",
    "    dq = dataframe[column].unique()\n",
    "    for i in x:\n",
    "        data[i] = dq[i]\n",
    "        freq[i] = dataframe[column][dataframe[column] == dq[i]].value_counts().sum()\n",
    "    data = list(data.values())\n",
    "    freq = list(freq.values())\n",
    "    plt.pie(freq, labels = data, colors=palette_color, autopct='%.0f%%')"
   ]
  },
  {
   "cell_type": "code",
   "execution_count": 13,
   "metadata": {},
   "outputs": [
    {
     "data": {
      "image/png": "[encoded data removed]",
      "text/plain": [
       "<Figure size 432x288 with 1 Axes>"
      ]
     },
     "metadata": {},
     "output_type": "display_data"
    }
   ],
   "source": [
    "# Check the composition of target\n",
    "PieComposition(df, 'Churn')"
   ]
  },
  {
   "cell_type": "code",
   "execution_count": 14,
   "metadata": {},
   "outputs": [
    {
     "data": {
      "text/plain": [
       "No     5163\n",
       "Yes    1869\n",
       "Name: Churn, dtype: int64"
      ]
     },
     "execution_count": 14,
     "metadata": {},
     "output_type": "execute_result"
    }
   ],
   "source": [
    "# Shows the target quantity for every value\n",
    "df['Churn'].value_counts()"
   ]
  },
  {
   "cell_type": "markdown",
   "metadata": {},
   "source": [
    "Statement :<br>\n",
    "Since the target is mildly unbalanced, therefore data imbalance will be handled prior to model training.<br>\n",
    "In view of the fact that number of dataset is tends to be small, therefore oversampling method will be performed."
   ]
  },
  {
   "cell_type": "code",
   "execution_count": 15,
   "metadata": {},
   "outputs": [
    {
     "data": {
      "image/png": "[encoded data removed]",
      "text/plain": [
       "<Figure size 360x360 with 1 Axes>"
      ]
     },
     "metadata": {},
     "output_type": "display_data"
    }
   ],
   "source": [
    "# Check Monthly Charges according to data target\n",
    "sns.set(rc={\"figure.figsize\":(5, 5)})\n",
    "df[['MonthlyCharges', 'Churn']].groupby('Churn').mean().plot.bar()\n",
    "plt.show()"
   ]
  },
  {
   "cell_type": "code",
   "execution_count": 16,
   "metadata": {},
   "outputs": [
    {
     "data": {
      "image/png": "[encoded data removed]",
      "text/plain": [
       "<Figure size 360x360 with 1 Axes>"
      ]
     },
     "metadata": {},
     "output_type": "display_data"
    }
   ],
   "source": [
    "# Check Monthly Charges according to data target\n",
    "df[['TotalCharges', 'Churn']].groupby('Churn').mean().plot.bar()\n",
    "plt.show()"
   ]
  },
  {
   "cell_type": "markdown",
   "metadata": {},
   "source": [
    "Statement :<br>\n",
    "Somehow, churned customers have higher average monthly charges than unchurned customers. While in the other side, churned customers have higher average total charges than unchurned customers. This is possible since the unchurned customers pay in longer time, thus causing the total charges to be greater than the unchurned ones."
   ]
  },
  {
   "cell_type": "code",
   "execution_count": 17,
   "metadata": {},
   "outputs": [
    {
     "data": {
      "image/png": "[encoded data removed]",
      "text/plain": [
       "<Figure size 360x360 with 1 Axes>"
      ]
     },
     "metadata": {},
     "output_type": "display_data"
    }
   ],
   "source": [
    "# Check the composition of contract column\n",
    "PieComposition(df, 'Contract')"
   ]
  },
  {
   "cell_type": "markdown",
   "metadata": {},
   "source": [
    "Statement :<br>\n",
    "Most customers pay monthly contract. While the most profitable payments contract is yearly contract ( since the company obtain a larger amount of fresh cash in short time ), added bonus on yearly contract will surely increase the number of customers who paid for yearly contract."
   ]
  },
  {
   "cell_type": "code",
   "execution_count": 18,
   "metadata": {},
   "outputs": [
    {
     "data": {
      "text/plain": [
       "<AxesSubplot:>"
      ]
     },
     "execution_count": 18,
     "metadata": {},
     "output_type": "execute_result"
    },
    {
     "data": {
      "image/png": "[encoded data removed]",
      "text/plain": [
       "<Figure size 360x360 with 1 Axes>"
      ]
     },
     "metadata": {},
     "output_type": "display_data"
    }
   ],
   "source": [
    "# Tenure's plot\n",
    "df['tenure'].hist(bins = 60)"
   ]
  },
  {
   "cell_type": "code",
   "execution_count": 19,
   "metadata": {},
   "outputs": [
    {
     "data": {
      "text/plain": [
       "1     613\n",
       "72    362\n",
       "Name: tenure, dtype: int64"
      ]
     },
     "execution_count": 19,
     "metadata": {},
     "output_type": "execute_result"
    }
   ],
   "source": [
    "# Calculate tenure column statistical parameters\n",
    "df['tenure'].value_counts().sort_values( ascending = False ).head(2)"
   ]
  },
  {
   "cell_type": "markdown",
   "metadata": {},
   "source": [
    "Statement :<br>\n",
    "2 most frequent months is 1 and 72 months. Most of customers last either in very short of time period or very long time period."
   ]
  },
  {
   "cell_type": "code",
   "execution_count": 20,
   "metadata": {},
   "outputs": [
    {
     "data": {
      "image/png": "[encoded data removed]",
      "text/plain": [
       "<Figure size 360x360 with 1 Axes>"
      ]
     },
     "metadata": {},
     "output_type": "display_data"
    }
   ],
   "source": [
    "# Check the composition of senior citizen\n",
    "PieComposition(df, 'SeniorCitizen')"
   ]
  },
  {
   "cell_type": "markdown",
   "metadata": {},
   "source": [
    "Statement :<br>\n",
    "Since most of customers is not a senior citizen, compare the number of senior citizen to churned customers."
   ]
  },
  {
   "cell_type": "code",
   "execution_count": 21,
   "metadata": {},
   "outputs": [
    {
     "data": {
      "image/png": "[encoded data removed]",
      "text/plain": [
       "<Figure size 576x360 with 1 Axes>"
      ]
     },
     "metadata": {},
     "output_type": "display_data"
    }
   ],
   "source": [
    "# Senior Citizen Status related to Churn Status\n",
    "data = np.array([0,1])\n",
    "data_axis = np.arange(len(data))\n",
    "\n",
    "df_c = df[df['Churn'] == 'Yes'] # Churned\n",
    "freq_0c = df_c.SeniorCitizen[df_c['SeniorCitizen'] == 0].value_counts().sum()\n",
    "freq_1c = df_c.SeniorCitizen[df_c['SeniorCitizen'] == 1].value_counts().sum()\n",
    "freq_c = [freq_0c, freq_1c]\n",
    "\n",
    "df_uc = df[df['Churn'] == 'No'] # Unchurned\n",
    "freq_0uc = df_uc.SeniorCitizen[df_uc['SeniorCitizen'] == 0].value_counts().sum()\n",
    "freq_1uc = df_uc.SeniorCitizen[df_uc['SeniorCitizen'] == 1].value_counts().sum()\n",
    "freq_uc = [freq_0uc, freq_1uc]\n",
    "\n",
    "fig = plt.figure(figsize = (8, 5))\n",
    "plt.bar(data_axis - 0.2, freq_c, 0.4, label = 'Churned')\n",
    "plt.bar(data_axis + 0.2, freq_uc, 0.4, label = 'Unchurned')\n",
    "plt.xticks(data_axis, data)\n",
    "\n",
    "plt.xlabel('Senior Citizen Status')\n",
    "plt.ylabel('frequency')\n",
    "plt.title('Churn Status Frequency According to Senior Citizen Status')\n",
    "plt.legend()\n",
    "plt.show()"
   ]
  },
  {
   "cell_type": "markdown",
   "metadata": {},
   "source": [
    "Statement :<br>\n",
    "Based on Churned Status ratio, we can clearly that Senior Citizen are more likely to churned compared to Younger Citizen. "
   ]
  },
  {
   "cell_type": "markdown",
   "metadata": {},
   "source": [
    "### 4. Data Preprocessing"
   ]
  },
  {
   "cell_type": "code",
   "execution_count": 22,
   "metadata": {},
   "outputs": [],
   "source": [
    "# Split train test set with Inference Model\n",
    "data_inf = df.sample(10, random_state = 1)\n",
    "\n",
    "# Remove Inference Model from dataset\n",
    "data_train_val_test = df.drop(data_inf.index)\n",
    "\n",
    "# Reset index for both dataset\n",
    "data_train_val_test.reset_index(drop = True , inplace = True)\n",
    "data_inf.reset_index(drop = True , inplace = True)"
   ]
  },
  {
   "cell_type": "code",
   "execution_count": 23,
   "metadata": {},
   "outputs": [],
   "source": [
    "# Split data features and target\n",
    "X = data_train_val_test.drop('Churn', axis = 1)\n",
    "#y = pd.DataFrame(data_train_val_test['Churn'])\n",
    "y = pd.DataFrame(data_train_val_test['Churn'])\n",
    "\n",
    "# Split data train, validation, and test set\n",
    "X_train_val, X_test, y_train_val, y_test = train_test_split(X, y, test_size = 0.20, random_state = 1)\n",
    "X_train, X_val, y_train, y_val = train_test_split(X_train_val, y_train_val, test_size = 0.20, random_state = 1)"
   ]
  },
  {
   "cell_type": "code",
   "execution_count": 24,
   "metadata": {},
   "outputs": [],
   "source": [
    "# Make a function for showing numerical outliers\n",
    "def Show_LLUL(df, variable, multiplier = 1.5):\n",
    "    if df[variable].skew() > -0.5 and df[variable].skew() < 0.5:\n",
    "        LL = df[variable].mean() - 3 * df[variable].std()\n",
    "        UL = df[variable].mean() + 3 * df[variable].std() \n",
    "    else:\n",
    "        Q1 = df[variable].quantile(0.25)\n",
    "        Q3 = df[variable].quantile(0.75)\n",
    "        IQR = Q3 - Q1\n",
    "        LL = Q1 - multiplier * IQR\n",
    "        UL = Q3 + multiplier * IQR\n",
    "    out_df = df[(df[variable] > UL) | (df[variable] < LL)]\n",
    "    out_df.sort_values(variable, ascending = False, inplace = True)\n",
    "    print(out_df.shape[0] / df.shape[0] * 100, '% is considered as outliers')\n",
    "    return out_df"
   ]
  },
  {
   "cell_type": "code",
   "execution_count": 25,
   "metadata": {},
   "outputs": [
    {
     "name": "stdout",
     "output_type": "stream",
     "text": [
      "Numerical list : ['tenure', 'MonthlyCharges', 'TotalCharges']\n",
      "Categorical list : ['gender', 'Partner', 'Dependents', 'PhoneService', 'MultipleLines', 'InternetService', 'OnlineSecurity', 'OnlineBackup', 'DeviceProtection', 'TechSupport', 'StreamingTV', 'StreamingMovies', 'Contract', 'PaperlessBilling', 'PaymentMethod', 'SeniorCitizen']\n"
     ]
    }
   ],
   "source": [
    "# Get numerical and categorical columns\n",
    "num_columns = ['tenure' , 'MonthlyCharges' , 'TotalCharges']\n",
    "cat_columns = X_train.select_dtypes(include = ['object']).columns.tolist() + ['SeniorCitizen']\n",
    "\n",
    "# Print all numerical columns\n",
    "print('Numerical list :', num_columns)\n",
    "print('Categorical list :', cat_columns)"
   ]
  },
  {
   "cell_type": "code",
   "execution_count": 26,
   "metadata": {},
   "outputs": [
    {
     "name": "stdout",
     "output_type": "stream",
     "text": [
      "0.0 % is considered as outliers\n"
     ]
    },
    {
     "data": {
      "text/html": [
       "<div>\n",
       "<style scoped>\n",
       "    .dataframe tbody tr th:only-of-type {\n",
       "        vertical-align: middle;\n",
       "    }\n",
       "\n",
       "    .dataframe tbody tr th {\n",
       "        vertical-align: top;\n",
       "    }\n",
       "\n",
       "    .dataframe thead th {\n",
       "        text-align: right;\n",
       "    }\n",
       "</style>\n",
       "<table border=\"1\" class=\"dataframe\">\n",
       "  <thead>\n",
       "    <tr style=\"text-align: right;\">\n",
       "      <th></th>\n",
       "      <th>gender</th>\n",
       "      <th>SeniorCitizen</th>\n",
       "      <th>Partner</th>\n",
       "      <th>Dependents</th>\n",
       "      <th>tenure</th>\n",
       "      <th>PhoneService</th>\n",
       "      <th>MultipleLines</th>\n",
       "      <th>InternetService</th>\n",
       "      <th>OnlineSecurity</th>\n",
       "      <th>OnlineBackup</th>\n",
       "      <th>DeviceProtection</th>\n",
       "      <th>TechSupport</th>\n",
       "      <th>StreamingTV</th>\n",
       "      <th>StreamingMovies</th>\n",
       "      <th>Contract</th>\n",
       "      <th>PaperlessBilling</th>\n",
       "      <th>PaymentMethod</th>\n",
       "      <th>MonthlyCharges</th>\n",
       "      <th>TotalCharges</th>\n",
       "    </tr>\n",
       "  </thead>\n",
       "  <tbody>\n",
       "  </tbody>\n",
       "</table>\n",
       "</div>"
      ],
      "text/plain": [
       "Empty DataFrame\n",
       "Columns: [gender, SeniorCitizen, Partner, Dependents, tenure, PhoneService, MultipleLines, InternetService, OnlineSecurity, OnlineBackup, DeviceProtection, TechSupport, StreamingTV, StreamingMovies, Contract, PaperlessBilling, PaymentMethod, MonthlyCharges, TotalCharges]\n",
       "Index: []"
      ]
     },
     "execution_count": 26,
     "metadata": {},
     "output_type": "execute_result"
    }
   ],
   "source": [
    "# Check all numerical train set data outliers\n",
    "\n",
    "# Check tenure column\n",
    "Show_LLUL(X_train, 'tenure')"
   ]
  },
  {
   "cell_type": "code",
   "execution_count": 27,
   "metadata": {},
   "outputs": [
    {
     "name": "stdout",
     "output_type": "stream",
     "text": [
      "0.0 % is considered as outliers\n"
     ]
    },
    {
     "data": {
      "text/html": [
       "<div>\n",
       "<style scoped>\n",
       "    .dataframe tbody tr th:only-of-type {\n",
       "        vertical-align: middle;\n",
       "    }\n",
       "\n",
       "    .dataframe tbody tr th {\n",
       "        vertical-align: top;\n",
       "    }\n",
       "\n",
       "    .dataframe thead th {\n",
       "        text-align: right;\n",
       "    }\n",
       "</style>\n",
       "<table border=\"1\" class=\"dataframe\">\n",
       "  <thead>\n",
       "    <tr style=\"text-align: right;\">\n",
       "      <th></th>\n",
       "      <th>gender</th>\n",
       "      <th>SeniorCitizen</th>\n",
       "      <th>Partner</th>\n",
       "      <th>Dependents</th>\n",
       "      <th>tenure</th>\n",
       "      <th>PhoneService</th>\n",
       "      <th>MultipleLines</th>\n",
       "      <th>InternetService</th>\n",
       "      <th>OnlineSecurity</th>\n",
       "      <th>OnlineBackup</th>\n",
       "      <th>DeviceProtection</th>\n",
       "      <th>TechSupport</th>\n",
       "      <th>StreamingTV</th>\n",
       "      <th>StreamingMovies</th>\n",
       "      <th>Contract</th>\n",
       "      <th>PaperlessBilling</th>\n",
       "      <th>PaymentMethod</th>\n",
       "      <th>MonthlyCharges</th>\n",
       "      <th>TotalCharges</th>\n",
       "    </tr>\n",
       "  </thead>\n",
       "  <tbody>\n",
       "  </tbody>\n",
       "</table>\n",
       "</div>"
      ],
      "text/plain": [
       "Empty DataFrame\n",
       "Columns: [gender, SeniorCitizen, Partner, Dependents, tenure, PhoneService, MultipleLines, InternetService, OnlineSecurity, OnlineBackup, DeviceProtection, TechSupport, StreamingTV, StreamingMovies, Contract, PaperlessBilling, PaymentMethod, MonthlyCharges, TotalCharges]\n",
       "Index: []"
      ]
     },
     "execution_count": 27,
     "metadata": {},
     "output_type": "execute_result"
    }
   ],
   "source": [
    "# Check MonthlyCharges column\n",
    "Show_LLUL(X_train, 'MonthlyCharges')"
   ]
  },
  {
   "cell_type": "code",
   "execution_count": 28,
   "metadata": {},
   "outputs": [
    {
     "name": "stdout",
     "output_type": "stream",
     "text": [
      "0.0 % is considered as outliers\n"
     ]
    },
    {
     "data": {
      "text/html": [
       "<div>\n",
       "<style scoped>\n",
       "    .dataframe tbody tr th:only-of-type {\n",
       "        vertical-align: middle;\n",
       "    }\n",
       "\n",
       "    .dataframe tbody tr th {\n",
       "        vertical-align: top;\n",
       "    }\n",
       "\n",
       "    .dataframe thead th {\n",
       "        text-align: right;\n",
       "    }\n",
       "</style>\n",
       "<table border=\"1\" class=\"dataframe\">\n",
       "  <thead>\n",
       "    <tr style=\"text-align: right;\">\n",
       "      <th></th>\n",
       "      <th>gender</th>\n",
       "      <th>SeniorCitizen</th>\n",
       "      <th>Partner</th>\n",
       "      <th>Dependents</th>\n",
       "      <th>tenure</th>\n",
       "      <th>PhoneService</th>\n",
       "      <th>MultipleLines</th>\n",
       "      <th>InternetService</th>\n",
       "      <th>OnlineSecurity</th>\n",
       "      <th>OnlineBackup</th>\n",
       "      <th>DeviceProtection</th>\n",
       "      <th>TechSupport</th>\n",
       "      <th>StreamingTV</th>\n",
       "      <th>StreamingMovies</th>\n",
       "      <th>Contract</th>\n",
       "      <th>PaperlessBilling</th>\n",
       "      <th>PaymentMethod</th>\n",
       "      <th>MonthlyCharges</th>\n",
       "      <th>TotalCharges</th>\n",
       "    </tr>\n",
       "  </thead>\n",
       "  <tbody>\n",
       "  </tbody>\n",
       "</table>\n",
       "</div>"
      ],
      "text/plain": [
       "Empty DataFrame\n",
       "Columns: [gender, SeniorCitizen, Partner, Dependents, tenure, PhoneService, MultipleLines, InternetService, OnlineSecurity, OnlineBackup, DeviceProtection, TechSupport, StreamingTV, StreamingMovies, Contract, PaperlessBilling, PaymentMethod, MonthlyCharges, TotalCharges]\n",
       "Index: []"
      ]
     },
     "execution_count": 28,
     "metadata": {},
     "output_type": "execute_result"
    }
   ],
   "source": [
    "# Check TotalCharges column\n",
    "Show_LLUL(X_train, 'TotalCharges')"
   ]
  },
  {
   "cell_type": "markdown",
   "metadata": {},
   "source": [
    "Statement :<br>\n",
    "Since no outliers were found, therefore outliers handling is not required."
   ]
  },
  {
   "cell_type": "code",
   "execution_count": 29,
   "metadata": {},
   "outputs": [
    {
     "data": {
      "text/plain": [
       "tenure            0.232156\n",
       "MonthlyCharges   -0.216033\n",
       "TotalCharges      0.959623\n",
       "dtype: float64"
      ]
     },
     "execution_count": 29,
     "metadata": {},
     "output_type": "execute_result"
    }
   ],
   "source": [
    "# Check all numerical columns distribution for scaling purposes\n",
    "X_train[num_columns].skew()"
   ]
  },
  {
   "cell_type": "markdown",
   "metadata": {},
   "source": [
    "Statament :<br>\n",
    "Data with skewed distribution will be scaled using MinMaxScaler, while normal distribution will be scaled using StandardScaler.<br>\n",
    "Column with skewness value between -0.5 to 0.5 will be considered as normal distribution."
   ]
  },
  {
   "cell_type": "code",
   "execution_count": 30,
   "metadata": {},
   "outputs": [],
   "source": [
    "# List of encoded features\n",
    "encoded_features = ['SeniorCitizen']\n",
    "\n",
    "# List of unencoded categorical features\n",
    "numeric_features = X_train.select_dtypes(include = ['object']).columns.tolist()\n",
    "\n",
    "# List of unscaled numerical features based on their distribution type\n",
    "nor_num_features = ['tenure' , 'MonthlyCharges']\n",
    "skew_num_features = ['TotalCharges']\n",
    "\n",
    "# All features and processed features\n",
    "all_feat = numeric_features + nor_num_features + skew_num_features + encoded_features"
   ]
  },
  {
   "cell_type": "code",
   "execution_count": 31,
   "metadata": {},
   "outputs": [],
   "source": [
    "# Construct transformer pipelines for each feature type\n",
    "\n",
    "# Categorical features\n",
    "nominal_transformer = Pipeline(steps=[\n",
    "    ('ordinal' , OrdinalEncoder())])\n",
    "\n",
    "# Numerical features\n",
    "normal_transformer = Pipeline(steps=[\n",
    "    ('norscalar' , StandardScaler())])\n",
    "skew_transformer = Pipeline(steps=[\n",
    "    ('skewscalar' , MinMaxScaler())])"
   ]
  },
  {
   "cell_type": "code",
   "execution_count": 32,
   "metadata": {},
   "outputs": [],
   "source": [
    "# Combine transformer with column transformer\n",
    "preprocessor = ColumnTransformer(transformers=[\n",
    "('nominal', nominal_transformer , numeric_features ),\n",
    "('norscalar', normal_transformer , nor_num_features ),\n",
    "('skewscalar', skew_transformer , skew_num_features ),\n",
    "('encoded' , 'passthrough', encoded_features)\n",
    "])"
   ]
  },
  {
   "cell_type": "code",
   "execution_count": 33,
   "metadata": {},
   "outputs": [],
   "source": [
    "# Construct a pipeline\n",
    "ScalEnd = Pipeline(steps=[('preprocessor' , preprocessor) ])"
   ]
  },
  {
   "cell_type": "code",
   "execution_count": 34,
   "metadata": {},
   "outputs": [],
   "source": [
    "# Make a new dataframe with scaled and encoded value\n",
    "X_train_new = pd.DataFrame(ScalEnd.fit_transform(X_train), columns = all_feat)"
   ]
  },
  {
   "cell_type": "code",
   "execution_count": 35,
   "metadata": {},
   "outputs": [],
   "source": [
    "# Feature selection\n",
    "\n",
    "# Split the train set into each type of column\n",
    "X_train_num = X_train_new[num_columns]\n",
    "X_train_cat = X_train_new[cat_columns]"
   ]
  },
  {
   "cell_type": "code",
   "execution_count": 36,
   "metadata": {},
   "outputs": [
    {
     "data": {
      "text/plain": [
       "tenure            649.244392\n",
       "TotalCharges      184.219774\n",
       "MonthlyCharges    174.711654\n",
       "dtype: float64"
      ]
     },
     "execution_count": 36,
     "metadata": {},
     "output_type": "execute_result"
    }
   ],
   "source": [
    "# ANOVA's method to look for significant differences between numerical features and categorical target\n",
    "select_ANOV = SelectKBest(score_func = f_classif, k='all')\n",
    "num_list = select_ANOV.fit(X_train_num, y_train)\n",
    "num_result = pd.Series(num_list.scores_)\n",
    "num_result.index = X_train_num.columns\n",
    "num_result.sort_values(ascending = False)"
   ]
  },
  {
   "cell_type": "code",
   "execution_count": 37,
   "metadata": {},
   "outputs": [
    {
     "data": {
      "text/plain": [
       "Contract            690.994840\n",
       "OnlineSecurity      344.134224\n",
       "TechSupport         338.131930\n",
       "OnlineBackup        153.506884\n",
       "DeviceProtection    133.671956\n",
       "Dependents           80.095308\n",
       "SeniorCitizen        74.716744\n",
       "PaperlessBilling     70.796303\n",
       "Partner              53.659794\n",
       "PaymentMethod        39.808840\n",
       "InternetService       7.499473\n",
       "MultipleLines         6.529613\n",
       "StreamingTV           2.988197\n",
       "StreamingMovies       2.150867\n",
       "gender                0.010279\n",
       "PhoneService          0.007524\n",
       "dtype: float64"
      ]
     },
     "execution_count": 37,
     "metadata": {},
     "output_type": "execute_result"
    }
   ],
   "source": [
    "# Chi Square Method to seacrh the most relevant categorical features\n",
    "select_chi = SelectKBest(score_func = chi2, k ='all')\n",
    "cat_list = select_chi.fit(X_train_cat, y_train)\n",
    "cat_result = pd.Series(cat_list.scores_)\n",
    "cat_result.index = X_train_cat.columns\n",
    "cat_result.sort_values(ascending = False)"
   ]
  },
  {
   "cell_type": "markdown",
   "metadata": {},
   "source": [
    "Statement :<br>\n",
    "The feature selection is based on features with highest relevance and/or significance score.<br>\n",
    "Numerical features : tenure, TotalCharges, MonthlyCharges<br>\n",
    "Categorical features : Contract, OnlineSecurity, TechSupport, OnlineBackup, DeviceProtection, SeniorCitizen, Dependents"
   ]
  },
  {
   "cell_type": "code",
   "execution_count": 38,
   "metadata": {},
   "outputs": [
    {
     "name": "stdout",
     "output_type": "stream",
     "text": [
      "Contract ['Month-to-month' 'Two year' 'One year']\n",
      "OnlineSecurity ['No internet service' 'No' 'Yes']\n",
      "TechSupport ['No internet service' 'No' 'Yes']\n",
      "OnlineBackup ['No internet service' 'Yes' 'No']\n",
      "DeviceProtection ['No internet service' 'Yes' 'No']\n",
      "Dependents ['Yes' 'No']\n"
     ]
    }
   ],
   "source": [
    "# Check categorical columns unique value in train set selected categorical features\n",
    "for (colname,colval) in X_train[['Contract' , 'OnlineSecurity' , 'TechSupport' , 'OnlineBackup' , 'DeviceProtection' , 'Dependents']].iteritems():\n",
    "    print(colname, colval.unique())"
   ]
  },
  {
   "cell_type": "markdown",
   "metadata": {},
   "source": [
    "Statement :<br>\n",
    "The column that has ordinal values is the Contract column only, thus Contract column will be encoded using OrdinalEncoder, while the other columns will be encoded using OneHotEncoder."
   ]
  },
  {
   "cell_type": "code",
   "execution_count": 39,
   "metadata": {},
   "outputs": [],
   "source": [
    "# List of encoded features\n",
    "encoded_features = ['SeniorCitizen']\n",
    "\n",
    "# List of unencoded categorical features\n",
    "numeric_features = ['OnlineSecurity' , 'TechSupport' , 'OnlineBackup' , 'DeviceProtection' , 'Dependents']\n",
    "ordinal_features = ['Contract']\n",
    "\n",
    "# List of unscaled numerical features based on their distribution type\n",
    "nor_num_features = ['tenure' , 'MonthlyCharges']\n",
    "skew_num_features = ['TotalCharges']\n",
    "\n",
    "# All features and processed features\n",
    "all_feat = numeric_features + ordinal_features + nor_num_features + skew_num_features + encoded_features"
   ]
  },
  {
   "cell_type": "code",
   "execution_count": 40,
   "metadata": {},
   "outputs": [],
   "source": [
    "# Construct transformer pipelines for each feature type\n",
    "\n",
    "# Categorical features\n",
    "nominal_transformer = Pipeline(steps=[\n",
    "    ('encoder' , OneHotEncoder())])\n",
    "ordinal_transformer = Pipeline(steps=[\n",
    "    ('ordinal' , OrdinalEncoder())])\n",
    "\n",
    "# Numerical features\n",
    "normal_transformer = Pipeline(steps=[\n",
    "    ('norscalar' , StandardScaler())])\n",
    "skew_transformer = Pipeline(steps=[\n",
    "    ('skewscalar' , MinMaxScaler())])"
   ]
  },
  {
   "cell_type": "code",
   "execution_count": 41,
   "metadata": {},
   "outputs": [],
   "source": [
    "# Combine transformer with column transformer\n",
    "preprocessor = ColumnTransformer(transformers=[\n",
    "('nominal', nominal_transformer , numeric_features ),\n",
    "('ordinal', ordinal_transformer , ordinal_features ),\n",
    "('norscalar', normal_transformer , nor_num_features ),\n",
    "('skewscalar', skew_transformer , skew_num_features ),\n",
    "('encoded' , 'passthrough', encoded_features)\n",
    "])"
   ]
  },
  {
   "cell_type": "code",
   "execution_count": 42,
   "metadata": {},
   "outputs": [],
   "source": [
    "# Construct a pipeline\n",
    "ScalEnd = Pipeline(steps=[('preprocessor' , preprocessor) ])"
   ]
  },
  {
   "cell_type": "code",
   "execution_count": 43,
   "metadata": {},
   "outputs": [],
   "source": [
    "# Transform train and test dataset into scaled and encoded set and select necessary features only\n",
    "X_train = ScalEnd.fit_transform(X_train)\n",
    "X_val = ScalEnd.fit_transform(X_val)\n",
    "X_test = ScalEnd.transform(X_test)"
   ]
  },
  {
   "cell_type": "code",
   "execution_count": 44,
   "metadata": {},
   "outputs": [],
   "source": [
    "# Encode the target value\n",
    "class_out = ['No','Yes']\n",
    "y_test_ori = y_test\n",
    "T_enc = OrdinalEncoder(categories = [['No', 'Yes']])\n",
    "\n",
    "# Transform the target value\n",
    "y_train_enc = pd.DataFrame(T_enc.fit_transform(y_train))\n",
    "y_val = T_enc.transform(y_val)\n",
    "y_test = T_enc.transform(y_test)"
   ]
  },
  {
   "cell_type": "code",
   "execution_count": 45,
   "metadata": {},
   "outputs": [],
   "source": [
    "# Handling target imbalance using SMOTE method\n",
    "X_balanced, y_balanced = SMOTE(sampling_strategy='minority').fit_resample(X_train, y_train_enc)"
   ]
  },
  {
   "cell_type": "code",
   "execution_count": 46,
   "metadata": {},
   "outputs": [
    {
     "name": "stdout",
     "output_type": "stream",
     "text": [
      "Pre Balancing\n",
      "0.0    3282\n",
      "1.0    1211\n",
      "dtype: int64 \n",
      "\n",
      "Post Balancing\n",
      "0.0    3282\n",
      "1.0    3282\n",
      "dtype: int64\n"
     ]
    }
   ],
   "source": [
    "# Compare the data composition before and after target balancing\n",
    "print('Pre Balancing')\n",
    "print(y_train_enc.value_counts(), '\\n')\n",
    "print('Post Balancing')\n",
    "print(y_balanced.value_counts())"
   ]
  },
  {
   "cell_type": "markdown",
   "metadata": {},
   "source": [
    "Statement :<br>\n",
    "Target balancing successfully performed."
   ]
  },
  {
   "cell_type": "code",
   "execution_count": 47,
   "metadata": {},
   "outputs": [],
   "source": [
    "# Define the balanced target as new train set\n",
    "X_train = X_balanced\n",
    "y_train = y_balanced"
   ]
  },
  {
   "cell_type": "code",
   "execution_count": 48,
   "metadata": {},
   "outputs": [],
   "source": [
    "# Make tensorflow pipeline for data ETL\n",
    "train_pipe = tf.data.Dataset.from_tensor_slices((X_train ,y_train)).batch(64).repeat(2).shuffle(100)\n",
    "val_pipe = tf.data.Dataset.from_tensor_slices((X_val ,y_val)).batch(32)\n",
    "test_pipe = tf.data.Dataset.from_tensor_slices((X_test ,y_test)).batch(32)"
   ]
  },
  {
   "cell_type": "markdown",
   "metadata": {},
   "source": [
    "### 5. Model Definition\n"
   ]
  },
  {
   "cell_type": "code",
   "execution_count": 49,
   "metadata": {},
   "outputs": [],
   "source": [
    "# Defining metrics since tensorflow didn't provide the required metrics\n",
    "def f1_score_macro():\n",
    "    return F1Score(num_classes = 1, average = 'macro', name = 'f1_score_macro', threshold = 0.5)"
   ]
  },
  {
   "cell_type": "markdown",
   "metadata": {},
   "source": [
    "#### 5.1 Sequential Base Model"
   ]
  },
  {
   "cell_type": "code",
   "execution_count": 50,
   "metadata": {},
   "outputs": [
    {
     "name": "stdout",
     "output_type": "stream",
     "text": [
      "Model: \"sequential\"\n",
      "_________________________________________________________________\n",
      " Layer (type)                Output Shape              Param #   \n",
      "=================================================================\n",
      " dense (Dense)               (None, 32)                640       \n",
      "                                                                 \n",
      " dense_1 (Dense)             (None, 8)                 264       \n",
      "                                                                 \n",
      " dense_2 (Dense)             (None, 4)                 36        \n",
      "                                                                 \n",
      " dense_3 (Dense)             (None, 2)                 10        \n",
      "                                                                 \n",
      " dense_4 (Dense)             (None, 1)                 3         \n",
      "                                                                 \n",
      "=================================================================\n",
      "Total params: 953\n",
      "Trainable params: 953\n",
      "Non-trainable params: 0\n",
      "_________________________________________________________________\n"
     ]
    }
   ],
   "source": [
    "# Defining model neurons, hidden layers\n",
    "Seq_Mod = Sequential()\n",
    "Seq_Mod.add(Dense(32, activation='relu', input_shape=(X_train.shape[-1],))) # Hidden Layer 1\n",
    "Seq_Mod.add(Dense(8, activation = 'relu')) # Hidden Layer 2\n",
    "Seq_Mod.add(Dense(4, activation = 'relu')) # Hidden Layer 3\n",
    "Seq_Mod.add(Dense(2, activation = 'relu')) # Hidden Layer 4\n",
    "Seq_Mod.add(Dense(1, activation = 'sigmoid')) # Output layer\n",
    "\n",
    "# Compile\n",
    "Seq_Mod.compile(optimizer='Adam',\n",
    "              loss='binary_crossentropy',\n",
    "              metrics= f1_score_macro())\n",
    "\n",
    "# Show model summary\n",
    "Seq_Mod.summary()"
   ]
  },
  {
   "cell_type": "code",
   "execution_count": 51,
   "metadata": {},
   "outputs": [
    {
     "data": {
      "image/png": "[encoded data removed]",
      "text/plain": [
       "<IPython.core.display.Image object>"
      ]
     },
     "execution_count": 51,
     "metadata": {},
     "output_type": "execute_result"
    }
   ],
   "source": [
    "# Check the Sequential Model API\n",
    "tf.keras.utils.plot_model(Seq_Mod, show_shapes = True)"
   ]
  },
  {
   "cell_type": "markdown",
   "metadata": {},
   "source": [
    "#### 5.2 Tuned Sequential Model"
   ]
  },
  {
   "cell_type": "code",
   "execution_count": 52,
   "metadata": {},
   "outputs": [
    {
     "name": "stdout",
     "output_type": "stream",
     "text": [
      "Model: \"sequential_1\"\n",
      "_________________________________________________________________\n",
      " Layer (type)                Output Shape              Param #   \n",
      "=================================================================\n",
      " dense_5 (Dense)             (None, 64)                1280      \n",
      "                                                                 \n",
      " batch_normalization (BatchN  (None, 64)               256       \n",
      " ormalization)                                                   \n",
      "                                                                 \n",
      " dense_6 (Dense)             (None, 32)                2080      \n",
      "                                                                 \n",
      " dense_7 (Dense)             (None, 16)                528       \n",
      "                                                                 \n",
      " dense_8 (Dense)             (None, 4)                 68        \n",
      "                                                                 \n",
      " dense_9 (Dense)             (None, 1)                 5         \n",
      "                                                                 \n",
      "=================================================================\n",
      "Total params: 4,217\n",
      "Trainable params: 4,089\n",
      "Non-trainable params: 128\n",
      "_________________________________________________________________\n"
     ]
    }
   ],
   "source": [
    "# Defining model neurons, hidden layers\n",
    "SeqTun_Mod = Sequential()\n",
    "SeqTun_Mod.add(Dense(64, activation='relu', input_shape=(X_train.shape[-1],))) # Hidden Layer 1\n",
    "SeqTun_Mod.add(tf.keras.layers.BatchNormalization())\n",
    "SeqTun_Mod.add(Dense(32, activation = 'tanh')) # Hidden Layer 2\n",
    "SeqTun_Mod.add(Dense(16, activation = 'relu')) # Hidden Layer 3\n",
    "SeqTun_Mod.add(Dense(4, activation = 'relu')) # Hidden Layer 4\n",
    "SeqTun_Mod.add(Dense(1, activation = 'sigmoid')) # Output layer\n",
    "\n",
    "# Compile\n",
    "SeqTun_Mod.compile(optimizer=tf.keras.optimizers.Adamax(learning_rate = 0.0015),\n",
    "              loss=tf.keras.losses.BinaryFocalCrossentropy(from_logits=True),\n",
    "              metrics= f1_score_macro())\n",
    "    \n",
    "# Show model summary\n",
    "SeqTun_Mod.summary()"
   ]
  },
  {
   "cell_type": "code",
   "execution_count": 53,
   "metadata": {},
   "outputs": [
    {
     "data": {
      "image/png": "[encoded data removed]",
      "text/plain": [
       "<IPython.core.display.Image object>"
      ]
     },
     "execution_count": 53,
     "metadata": {},
     "output_type": "execute_result"
    }
   ],
   "source": [
    "# Check the Sequential Model API\n",
    "tf.keras.utils.plot_model(SeqTun_Mod, show_shapes = True)"
   ]
  },
  {
   "cell_type": "markdown",
   "metadata": {},
   "source": [
    "#### 5.3 Functional Base Model"
   ]
  },
  {
   "cell_type": "code",
   "execution_count": 54,
   "metadata": {},
   "outputs": [
    {
     "name": "stdout",
     "output_type": "stream",
     "text": [
      "Model: \"model\"\n",
      "__________________________________________________________________________________________________\n",
      " Layer (type)                   Output Shape         Param #     Connected to                     \n",
      "==================================================================================================\n",
      " input_1 (InputLayer)           [(None, 19)]         0           []                               \n",
      "                                                                                                  \n",
      " dense_10 (Dense)               (None, 16)           320         ['input_1[0][0]']                \n",
      "                                                                                                  \n",
      " dense_11 (Dense)               (None, 8)            136         ['dense_10[0][0]']               \n",
      "                                                                                                  \n",
      " dense_13 (Dense)               (None, 16)           320         ['input_1[0][0]']                \n",
      "                                                                                                  \n",
      " dense_12 (Dense)               (None, 4)            36          ['dense_11[0][0]']               \n",
      "                                                                                                  \n",
      " dense_14 (Dense)               (None, 8)            136         ['dense_13[0][0]']               \n",
      "                                                                                                  \n",
      " concatenate (Concatenate)      (None, 12)           0           ['dense_12[0][0]',               \n",
      "                                                                  'dense_14[0][0]']               \n",
      "                                                                                                  \n",
      " dense_15 (Dense)               (None, 1)            13          ['concatenate[0][0]']            \n",
      "                                                                                                  \n",
      "==================================================================================================\n",
      "Total params: 961\n",
      "Trainable params: 961\n",
      "Non-trainable params: 0\n",
      "__________________________________________________________________________________________________\n"
     ]
    }
   ],
   "source": [
    "# Defining model neurons, hidden layers\n",
    "input_layer = Input(shape=(X_train.shape[-1],))\n",
    "\n",
    "hidden_layer_1A = Dense(16, activation = 'relu')(input_layer)\n",
    "hidden_layer_2A = Dense(8, activation = 'relu')(hidden_layer_1A)\n",
    "hidden_layer_3A = Dense(4, activation = 'relu')(hidden_layer_2A)\n",
    "\n",
    "hidden_layer_1B = Dense(16, activation = 'relu')(input_layer)\n",
    "hidden_layer_2B = Dense(8, activation = 'relu')(hidden_layer_1B)\n",
    "\n",
    "concat_layer = concatenate([hidden_layer_3A, hidden_layer_2B])\n",
    "\n",
    "output_layer = Dense(1, activation = 'sigmoid')(concat_layer)\n",
    "\n",
    "Func_Mod = Model(inputs = input_layer, outputs = output_layer)\n",
    "\n",
    "# Compile\n",
    "Func_Mod.compile(optimizer='Adam',\n",
    "              loss='binary_crossentropy',\n",
    "              metrics= f1_score_macro())\n",
    "\n",
    "# Show model summary\n",
    "Func_Mod.summary()"
   ]
  },
  {
   "cell_type": "code",
   "execution_count": 55,
   "metadata": {},
   "outputs": [
    {
     "data": {
      "image/png": "[encoded data removed]",
      "text/plain": [
       "<IPython.core.display.Image object>"
      ]
     },
     "execution_count": 55,
     "metadata": {},
     "output_type": "execute_result"
    }
   ],
   "source": [
    "# Check the Functional Model API\n",
    "tf.keras.utils.plot_model(Func_Mod, show_shapes = True)"
   ]
  },
  {
   "cell_type": "markdown",
   "metadata": {},
   "source": [
    "#### 5.4 Function Tuned Model"
   ]
  },
  {
   "cell_type": "code",
   "execution_count": 56,
   "metadata": {},
   "outputs": [
    {
     "name": "stdout",
     "output_type": "stream",
     "text": [
      "Model: \"model_1\"\n",
      "__________________________________________________________________________________________________\n",
      " Layer (type)                   Output Shape         Param #     Connected to                     \n",
      "==================================================================================================\n",
      " input_2 (InputLayer)           [(None, 19)]         0           []                               \n",
      "                                                                                                  \n",
      " dense_16 (Dense)               (None, 16)           320         ['input_2[0][0]']                \n",
      "                                                                                                  \n",
      " dense_17 (Dense)               (None, 8)            136         ['dense_16[0][0]']               \n",
      "                                                                                                  \n",
      " batch_normalization_1 (BatchNo  (None, 8)           32          ['dense_17[0][0]']               \n",
      " rmalization)                                                                                     \n",
      "                                                                                                  \n",
      " dense_19 (Dense)               (None, 16)           320         ['input_2[0][0]']                \n",
      "                                                                                                  \n",
      " dense_18 (Dense)               (None, 4)            36          ['batch_normalization_1[0][0]']  \n",
      "                                                                                                  \n",
      " batch_normalization_2 (BatchNo  (None, 16)          64          ['dense_19[0][0]']               \n",
      " rmalization)                                                                                     \n",
      "                                                                                                  \n",
      " dropout (Dropout)              (None, 4)            0           ['dense_18[0][0]']               \n",
      "                                                                                                  \n",
      " dense_20 (Dense)               (None, 8)            136         ['batch_normalization_2[0][0]']  \n",
      "                                                                                                  \n",
      " concatenate_1 (Concatenate)    (None, 12)           0           ['dropout[0][0]',                \n",
      "                                                                  'dense_20[0][0]']               \n",
      "                                                                                                  \n",
      " dense_21 (Dense)               (None, 1)            13          ['concatenate_1[0][0]']          \n",
      "                                                                                                  \n",
      "==================================================================================================\n",
      "Total params: 1,057\n",
      "Trainable params: 1,009\n",
      "Non-trainable params: 48\n",
      "__________________________________________________________________________________________________\n"
     ]
    }
   ],
   "source": [
    "# Defining model neurons, hidden layers\n",
    "input_layer = Input(shape=(X_train.shape[-1],))\n",
    "\n",
    "hidden_layer_1A = Dense(16, activation = 'relu')(input_layer)\n",
    "hidden_layer_2A = Dense(8, activation = 'tanh')(hidden_layer_1A)\n",
    "output_tensor_1A = tf.keras.layers.BatchNormalization(axis=1)(hidden_layer_2A)\n",
    "hidden_layer_3A = Dense(4, activation = 'relu')(output_tensor_1A)\n",
    "output_tensor_2A = tf.keras.layers.Dropout(0.1)(hidden_layer_3A)\n",
    "\n",
    "hidden_layer_1B = Dense(16, activation = 'tanh')(input_layer)\n",
    "output_tensor_1B = tf.keras.layers.BatchNormalization(axis=1)(hidden_layer_1B)\n",
    "hidden_layer_2B = Dense(8, activation = 'relu')(output_tensor_1B)\n",
    "\n",
    "concat_layer = concatenate([output_tensor_2A, hidden_layer_2B])\n",
    "\n",
    "output_layer = Dense(1, activation = 'sigmoid')(concat_layer)\n",
    "\n",
    "FuncTun_Mod = Model(inputs = input_layer, outputs = output_layer)\n",
    "\n",
    "# Compile\n",
    "FuncTun_Mod.compile(optimizer=tf.keras.optimizers.Adamax(learning_rate = 0.0015),\n",
    "              loss=tf.keras.losses.BinaryFocalCrossentropy(from_logits=True),\n",
    "              metrics= f1_score_macro())\n",
    "\n",
    "# Show model summary\n",
    "FuncTun_Mod.summary()"
   ]
  },
  {
   "cell_type": "code",
   "execution_count": 57,
   "metadata": {},
   "outputs": [
    {
     "data": {
      "image/png": "[encoded data removed]",
      "text/plain": [
       "<IPython.core.display.Image object>"
      ]
     },
     "execution_count": 57,
     "metadata": {},
     "output_type": "execute_result"
    }
   ],
   "source": [
    "# Check the Functional Model API\n",
    "tf.keras.utils.plot_model(FuncTun_Mod, show_shapes = True)"
   ]
  },
  {
   "cell_type": "markdown",
   "metadata": {},
   "source": [
    "### 6. Model Training"
   ]
  },
  {
   "cell_type": "code",
   "execution_count": 58,
   "metadata": {},
   "outputs": [],
   "source": [
    "# Describe an early stopping callback\n",
    "callback = tf.keras.callbacks.EarlyStopping(monitor='loss', patience = 10 ,restore_best_weights = True)"
   ]
  },
  {
   "cell_type": "markdown",
   "metadata": {},
   "source": [
    "#### 6.1 Sequential Base Model"
   ]
  },
  {
   "cell_type": "code",
   "execution_count": 59,
   "metadata": {},
   "outputs": [
    {
     "name": "stdout",
     "output_type": "stream",
     "text": [
      "Epoch 1/15\n",
      "206/206 [==============================] - 3s 7ms/step - loss: 0.5670 - f1_score_macro: 0.7089 - val_loss: 0.5568 - val_f1_score_macro: 0.6053\n",
      "Epoch 2/15\n",
      "206/206 [==============================] - 1s 6ms/step - loss: 0.5040 - f1_score_macro: 0.7668 - val_loss: 0.5615 - val_f1_score_macro: 0.6036\n",
      "Epoch 3/15\n",
      "206/206 [==============================] - 1s 6ms/step - loss: 0.5003 - f1_score_macro: 0.7701 - val_loss: 0.5374 - val_f1_score_macro: 0.6197\n",
      "Epoch 4/15\n",
      "206/206 [==============================] - 1s 6ms/step - loss: 0.4979 - f1_score_macro: 0.7666 - val_loss: 0.5470 - val_f1_score_macro: 0.6186\n",
      "Epoch 5/15\n",
      "206/206 [==============================] - 1s 6ms/step - loss: 0.4913 - f1_score_macro: 0.7697 - val_loss: 0.5075 - val_f1_score_macro: 0.6374\n",
      "Epoch 6/15\n",
      "206/206 [==============================] - 1s 6ms/step - loss: 0.4874 - f1_score_macro: 0.7692 - val_loss: 0.5801 - val_f1_score_macro: 0.6049\n",
      "Epoch 7/15\n",
      "206/206 [==============================] - 1s 6ms/step - loss: 0.4882 - f1_score_macro: 0.7735 - val_loss: 0.5296 - val_f1_score_macro: 0.6303\n",
      "Epoch 8/15\n",
      "206/206 [==============================] - 1s 6ms/step - loss: 0.4824 - f1_score_macro: 0.7736 - val_loss: 0.5689 - val_f1_score_macro: 0.6156\n",
      "Epoch 9/15\n",
      "206/206 [==============================] - 1s 6ms/step - loss: 0.4855 - f1_score_macro: 0.7737 - val_loss: 0.5548 - val_f1_score_macro: 0.6131\n",
      "Epoch 10/15\n",
      "206/206 [==============================] - 1s 7ms/step - loss: 0.4833 - f1_score_macro: 0.7737 - val_loss: 0.5505 - val_f1_score_macro: 0.6174\n",
      "Epoch 11/15\n",
      "206/206 [==============================] - 1s 6ms/step - loss: 0.4794 - f1_score_macro: 0.7801 - val_loss: 0.5159 - val_f1_score_macro: 0.6312\n",
      "Epoch 12/15\n",
      "206/206 [==============================] - 1s 6ms/step - loss: 0.4782 - f1_score_macro: 0.7792 - val_loss: 0.5364 - val_f1_score_macro: 0.6235\n",
      "Epoch 13/15\n",
      "206/206 [==============================] - 1s 6ms/step - loss: 0.4770 - f1_score_macro: 0.7775 - val_loss: 0.5148 - val_f1_score_macro: 0.6307\n",
      "Epoch 14/15\n",
      "206/206 [==============================] - 1s 6ms/step - loss: 0.4756 - f1_score_macro: 0.7793 - val_loss: 0.5205 - val_f1_score_macro: 0.6173\n",
      "Epoch 15/15\n",
      "206/206 [==============================] - 1s 6ms/step - loss: 0.4691 - f1_score_macro: 0.7829 - val_loss: 0.5275 - val_f1_score_macro: 0.6230\n"
     ]
    }
   ],
   "source": [
    "# Train Sequential Base Model\n",
    "history_seq = Seq_Mod.fit(train_pipe, epochs = 15,validation_data = val_pipe, callbacks = [callback])"
   ]
  },
  {
   "cell_type": "markdown",
   "metadata": {},
   "source": [
    "#### 6.2 Sequential Tuned Model"
   ]
  },
  {
   "cell_type": "code",
   "execution_count": 60,
   "metadata": {},
   "outputs": [
    {
     "name": "stdout",
     "output_type": "stream",
     "text": [
      "Epoch 1/15\n",
      "206/206 [==============================] - 3s 9ms/step - loss: 0.1696 - f1_score_macro: 0.4980 - val_loss: 0.1547 - val_f1_score_macro: 0.4612\n",
      "Epoch 2/15\n",
      "206/206 [==============================] - 2s 8ms/step - loss: 0.1384 - f1_score_macro: 0.5070 - val_loss: 0.1271 - val_f1_score_macro: 0.4165\n",
      "Epoch 3/15\n",
      "206/206 [==============================] - 2s 8ms/step - loss: 0.1241 - f1_score_macro: 0.5786 - val_loss: 0.1282 - val_f1_score_macro: 0.5179\n",
      "Epoch 4/15\n",
      "206/206 [==============================] - 2s 9ms/step - loss: 0.1111 - f1_score_macro: 0.6522 - val_loss: 0.1258 - val_f1_score_macro: 0.5326\n",
      "Epoch 5/15\n",
      "206/206 [==============================] - 2s 8ms/step - loss: 0.0964 - f1_score_macro: 0.7321 - val_loss: 0.1313 - val_f1_score_macro: 0.5148\n",
      "Epoch 6/15\n",
      "206/206 [==============================] - 2s 7ms/step - loss: 0.0866 - f1_score_macro: 0.7848 - val_loss: 0.1236 - val_f1_score_macro: 0.5326\n",
      "Epoch 7/15\n",
      "206/206 [==============================] - 2s 8ms/step - loss: 0.0813 - f1_score_macro: 0.8037 - val_loss: 0.1139 - val_f1_score_macro: 0.5293\n",
      "Epoch 8/15\n",
      "206/206 [==============================] - 2s 7ms/step - loss: 0.0782 - f1_score_macro: 0.8149 - val_loss: 0.1137 - val_f1_score_macro: 0.4990\n",
      "Epoch 9/15\n",
      "206/206 [==============================] - 2s 8ms/step - loss: 0.0758 - f1_score_macro: 0.8153 - val_loss: 0.1155 - val_f1_score_macro: 0.5271\n",
      "Epoch 10/15\n",
      "206/206 [==============================] - 2s 9ms/step - loss: 0.0743 - f1_score_macro: 0.8215 - val_loss: 0.1087 - val_f1_score_macro: 0.5000\n",
      "Epoch 11/15\n",
      "206/206 [==============================] - 2s 8ms/step - loss: 0.0731 - f1_score_macro: 0.8252 - val_loss: 0.1201 - val_f1_score_macro: 0.5312\n",
      "Epoch 12/15\n",
      "206/206 [==============================] - 1s 7ms/step - loss: 0.0717 - f1_score_macro: 0.8289 - val_loss: 0.1185 - val_f1_score_macro: 0.5435\n",
      "Epoch 13/15\n",
      "206/206 [==============================] - 2s 8ms/step - loss: 0.0707 - f1_score_macro: 0.8310 - val_loss: 0.1141 - val_f1_score_macro: 0.4969\n",
      "Epoch 14/15\n",
      "206/206 [==============================] - 2s 7ms/step - loss: 0.0701 - f1_score_macro: 0.8312 - val_loss: 0.1130 - val_f1_score_macro: 0.4555\n",
      "Epoch 15/15\n",
      "206/206 [==============================] - 2s 8ms/step - loss: 0.0693 - f1_score_macro: 0.8331 - val_loss: 0.1116 - val_f1_score_macro: 0.4908\n"
     ]
    }
   ],
   "source": [
    "# Train Sequential Tuned Model\n",
    "history_seqtun = SeqTun_Mod.fit(train_pipe, epochs = 15,validation_data = val_pipe, callbacks = [callback])"
   ]
  },
  {
   "cell_type": "markdown",
   "metadata": {},
   "source": [
    "#### 6.3 Functional Base Model"
   ]
  },
  {
   "cell_type": "code",
   "execution_count": 61,
   "metadata": {},
   "outputs": [
    {
     "name": "stdout",
     "output_type": "stream",
     "text": [
      "Epoch 1/15\n",
      "206/206 [==============================] - 2s 7ms/step - loss: 0.5809 - f1_score_macro: 0.7283 - val_loss: 0.5743 - val_f1_score_macro: 0.6023\n",
      "Epoch 2/15\n",
      "206/206 [==============================] - 1s 6ms/step - loss: 0.5091 - f1_score_macro: 0.7572 - val_loss: 0.5723 - val_f1_score_macro: 0.6186\n",
      "Epoch 3/15\n",
      "206/206 [==============================] - 1s 6ms/step - loss: 0.4941 - f1_score_macro: 0.7590 - val_loss: 0.6094 - val_f1_score_macro: 0.5978\n",
      "Epoch 4/15\n",
      "206/206 [==============================] - 1s 6ms/step - loss: 0.4873 - f1_score_macro: 0.7707 - val_loss: 0.6158 - val_f1_score_macro: 0.5967\n",
      "Epoch 5/15\n",
      "206/206 [==============================] - 1s 6ms/step - loss: 0.4929 - f1_score_macro: 0.7682 - val_loss: 0.5045 - val_f1_score_macro: 0.6441\n",
      "Epoch 6/15\n",
      "206/206 [==============================] - 1s 6ms/step - loss: 0.4882 - f1_score_macro: 0.7689 - val_loss: 0.5762 - val_f1_score_macro: 0.6074\n",
      "Epoch 7/15\n",
      "206/206 [==============================] - 1s 6ms/step - loss: 0.4893 - f1_score_macro: 0.7679 - val_loss: 0.4929 - val_f1_score_macro: 0.6489\n",
      "Epoch 8/15\n",
      "206/206 [==============================] - 1s 6ms/step - loss: 0.4859 - f1_score_macro: 0.7686 - val_loss: 0.5130 - val_f1_score_macro: 0.6401\n",
      "Epoch 9/15\n",
      "206/206 [==============================] - 1s 6ms/step - loss: 0.4862 - f1_score_macro: 0.7682 - val_loss: 0.5251 - val_f1_score_macro: 0.6326\n",
      "Epoch 10/15\n",
      "206/206 [==============================] - 1s 6ms/step - loss: 0.4834 - f1_score_macro: 0.7714 - val_loss: 0.5301 - val_f1_score_macro: 0.6350\n",
      "Epoch 11/15\n",
      "206/206 [==============================] - 1s 6ms/step - loss: 0.4801 - f1_score_macro: 0.7722 - val_loss: 0.5521 - val_f1_score_macro: 0.6190\n",
      "Epoch 12/15\n",
      "206/206 [==============================] - 1s 6ms/step - loss: 0.4815 - f1_score_macro: 0.7791 - val_loss: 0.5183 - val_f1_score_macro: 0.6369\n",
      "Epoch 13/15\n",
      "206/206 [==============================] - 1s 6ms/step - loss: 0.4729 - f1_score_macro: 0.7772 - val_loss: 0.5693 - val_f1_score_macro: 0.6070\n",
      "Epoch 14/15\n",
      "206/206 [==============================] - 1s 6ms/step - loss: 0.4786 - f1_score_macro: 0.7779 - val_loss: 0.5207 - val_f1_score_macro: 0.6299\n",
      "Epoch 15/15\n",
      "206/206 [==============================] - 1s 6ms/step - loss: 0.4722 - f1_score_macro: 0.7745 - val_loss: 0.5537 - val_f1_score_macro: 0.6177\n"
     ]
    }
   ],
   "source": [
    "# Train Functional Base Model\n",
    "history_func = Func_Mod.fit(train_pipe, epochs = 15,validation_data = val_pipe, callbacks = [callback])"
   ]
  },
  {
   "cell_type": "markdown",
   "metadata": {},
   "source": [
    "#### 6.4 Functional Tuned Model"
   ]
  },
  {
   "cell_type": "code",
   "execution_count": 62,
   "metadata": {},
   "outputs": [
    {
     "name": "stdout",
     "output_type": "stream",
     "text": [
      "Epoch 1/15\n",
      "206/206 [==============================] - 3s 10ms/step - loss: 0.1928 - f1_score_macro: 0.5651 - val_loss: 0.1583 - val_f1_score_macro: 0.3189\n",
      "Epoch 2/15\n",
      "206/206 [==============================] - 2s 10ms/step - loss: 0.1488 - f1_score_macro: 0.4983 - val_loss: 0.1323 - val_f1_score_macro: 0.2953\n",
      "Epoch 3/15\n",
      "206/206 [==============================] - 2s 9ms/step - loss: 0.1383 - f1_score_macro: 0.4544 - val_loss: 0.1290 - val_f1_score_macro: 0.3868\n",
      "Epoch 4/15\n",
      "206/206 [==============================] - 2s 10ms/step - loss: 0.1305 - f1_score_macro: 0.5185 - val_loss: 0.1282 - val_f1_score_macro: 0.4632\n",
      "Epoch 5/15\n",
      "206/206 [==============================] - 2s 9ms/step - loss: 0.1225 - f1_score_macro: 0.5860 - val_loss: 0.1265 - val_f1_score_macro: 0.4652\n",
      "Epoch 6/15\n",
      "206/206 [==============================] - 2s 9ms/step - loss: 0.1154 - f1_score_macro: 0.6373 - val_loss: 0.1303 - val_f1_score_macro: 0.5236\n",
      "Epoch 7/15\n",
      "206/206 [==============================] - 2s 9ms/step - loss: 0.1099 - f1_score_macro: 0.6831 - val_loss: 0.1214 - val_f1_score_macro: 0.4515\n",
      "Epoch 8/15\n",
      "206/206 [==============================] - 2s 9ms/step - loss: 0.1053 - f1_score_macro: 0.7190 - val_loss: 0.1220 - val_f1_score_macro: 0.4894\n",
      "Epoch 9/15\n",
      "206/206 [==============================] - 2s 9ms/step - loss: 0.1008 - f1_score_macro: 0.7417 - val_loss: 0.1219 - val_f1_score_macro: 0.5100\n",
      "Epoch 10/15\n",
      "206/206 [==============================] - 2s 9ms/step - loss: 0.0976 - f1_score_macro: 0.7587 - val_loss: 0.1194 - val_f1_score_macro: 0.5181\n",
      "Epoch 11/15\n",
      "206/206 [==============================] - 2s 9ms/step - loss: 0.0955 - f1_score_macro: 0.7654 - val_loss: 0.1204 - val_f1_score_macro: 0.5132\n",
      "Epoch 12/15\n",
      "206/206 [==============================] - 2s 9ms/step - loss: 0.0932 - f1_score_macro: 0.7731 - val_loss: 0.1276 - val_f1_score_macro: 0.5724\n",
      "Epoch 13/15\n",
      "206/206 [==============================] - 2s 9ms/step - loss: 0.0914 - f1_score_macro: 0.7851 - val_loss: 0.1275 - val_f1_score_macro: 0.5678\n",
      "Epoch 14/15\n",
      "206/206 [==============================] - 2s 9ms/step - loss: 0.0903 - f1_score_macro: 0.7878 - val_loss: 0.1262 - val_f1_score_macro: 0.5764\n",
      "Epoch 15/15\n",
      "206/206 [==============================] - 2s 9ms/step - loss: 0.0878 - f1_score_macro: 0.7975 - val_loss: 0.1195 - val_f1_score_macro: 0.4979\n"
     ]
    }
   ],
   "source": [
    "# Train Functional Tuned Model\n",
    "history_functun = FuncTun_Mod.fit(train_pipe, epochs = 15,validation_data = val_pipe, callbacks = [callback])"
   ]
  },
  {
   "cell_type": "markdown",
   "metadata": {},
   "source": [
    "### 7. Model Evaluation"
   ]
  },
  {
   "cell_type": "code",
   "execution_count": 63,
   "metadata": {},
   "outputs": [],
   "source": [
    "# Define function for Train - Validation Report\n",
    "def TrValRep(model_history):\n",
    "    print('Train - Validation Performance Report')\n",
    "    pd.DataFrame(model_history.history).plot(figsize=(8, 5))\n",
    "    plt.grid(True)\n",
    "    plt.gca().set_ylim(0, 1)\n",
    "    plt.show()"
   ]
  },
  {
   "cell_type": "code",
   "execution_count": 64,
   "metadata": {},
   "outputs": [],
   "source": [
    "# Define function for Train - Test Report\n",
    "def TrTeRep(model, X_test, y_test):\n",
    "    print('Train - Test Classification Report')\n",
    "    ME = model.evaluate(X_test, y_test)\n",
    "    y_pred = model.predict(X_test)\n",
    "    y_pred = np.where(y_pred >= 0.5, 1, 0)\n",
    "    print('loss     :', ME[0])\n",
    "    print('f1_score :', ME[1])\n",
    "    print('\\n classification report \\n',classification_report(y_test, y_pred))\n",
    "\n",
    "    confusion_matrix = metrics.confusion_matrix(y_test, y_pred)\n",
    "    cm_display = metrics.ConfusionMatrixDisplay(confusion_matrix = confusion_matrix, display_labels = [True, False])\n",
    "    cm_display.plot()\n",
    "    plt.show()"
   ]
  },
  {
   "cell_type": "markdown",
   "metadata": {},
   "source": [
    "#### 7.1 Sequential Base Model"
   ]
  },
  {
   "cell_type": "code",
   "execution_count": 65,
   "metadata": {},
   "outputs": [
    {
     "name": "stdout",
     "output_type": "stream",
     "text": [
      "Train - Validation Performance Report\n"
     ]
    },
    {
     "data": {
      "image/png": "[encoded data removed]",
      "text/plain": [
       "<Figure size 576x360 with 1 Axes>"
      ]
     },
     "metadata": {},
     "output_type": "display_data"
    },
    {
     "name": "stdout",
     "output_type": "stream",
     "text": [
      "Train - Test Classification Report\n",
      "44/44 [==============================] - 0s 3ms/step - loss: 0.5235 - f1_score_macro: 0.5924\n",
      "44/44 [==============================] - 0s 1ms/step\n",
      "loss     : 0.5235163569450378\n",
      "f1_score : 0.5923632383346558\n",
      "\n",
      " classification report \n",
      "               precision    recall  f1-score   support\n",
      "\n",
      "         0.0       0.92      0.69      0.79      1055\n",
      "         1.0       0.46      0.82      0.59       350\n",
      "\n",
      "    accuracy                           0.72      1405\n",
      "   macro avg       0.69      0.75      0.69      1405\n",
      "weighted avg       0.81      0.72      0.74      1405\n",
      "\n"
     ]
    },
    {
     "data": {
      "image/png": "[encoded data removed]",
      "text/plain": [
       "<Figure size 360x360 with 2 Axes>"
      ]
     },
     "metadata": {},
     "output_type": "display_data"
    }
   ],
   "source": [
    "# Train - Validation Report\n",
    "TrValRep(history_seq)\n",
    "\n",
    "# Train - Test Report\n",
    "TrTeRep(Seq_Mod, X_test, y_test)"
   ]
  },
  {
   "cell_type": "markdown",
   "metadata": {},
   "source": [
    "#### 7.2 Sequential Tuned Model"
   ]
  },
  {
   "cell_type": "code",
   "execution_count": 66,
   "metadata": {},
   "outputs": [
    {
     "name": "stdout",
     "output_type": "stream",
     "text": [
      "Train - Validation Performance Report\n"
     ]
    },
    {
     "data": {
      "image/png": "[encoded data removed]",
      "text/plain": [
       "<Figure size 576x360 with 1 Axes>"
      ]
     },
     "metadata": {},
     "output_type": "display_data"
    },
    {
     "name": "stdout",
     "output_type": "stream",
     "text": [
      "Train - Test Classification Report\n",
      "44/44 [==============================] - 0s 4ms/step - loss: 0.1116 - f1_score_macro: 0.4694\n",
      "44/44 [==============================] - 0s 2ms/step\n",
      "loss     : 0.1116277202963829\n",
      "f1_score : 0.46935200691223145\n",
      "\n",
      " classification report \n",
      "               precision    recall  f1-score   support\n",
      "\n",
      "         0.0       0.82      0.92      0.86      1055\n",
      "         1.0       0.61      0.38      0.47       350\n",
      "\n",
      "    accuracy                           0.78      1405\n",
      "   macro avg       0.71      0.65      0.67      1405\n",
      "weighted avg       0.76      0.78      0.77      1405\n",
      "\n"
     ]
    },
    {
     "data": {
      "image/png": "[encoded data removed]",
      "text/plain": [
       "<Figure size 360x360 with 2 Axes>"
      ]
     },
     "metadata": {},
     "output_type": "display_data"
    }
   ],
   "source": [
    "# Train - Validation Report\n",
    "TrValRep(history_seqtun)\n",
    "\n",
    "# Train - Test Report\n",
    "TrTeRep(SeqTun_Mod, X_test, y_test)"
   ]
  },
  {
   "cell_type": "markdown",
   "metadata": {},
   "source": [
    "#### 7.3 Functional Base Model"
   ]
  },
  {
   "cell_type": "code",
   "execution_count": 67,
   "metadata": {},
   "outputs": [
    {
     "name": "stdout",
     "output_type": "stream",
     "text": [
      "Train - Validation Performance Report\n"
     ]
    },
    {
     "data": {
      "image/png": "[encoded data removed]",
      "text/plain": [
       "<Figure size 576x360 with 1 Axes>"
      ]
     },
     "metadata": {},
     "output_type": "display_data"
    },
    {
     "name": "stdout",
     "output_type": "stream",
     "text": [
      "Train - Test Classification Report\n",
      "44/44 [==============================] - 0s 4ms/step - loss: 0.5563 - f1_score_macro: 0.5911\n",
      "44/44 [==============================] - 0s 1ms/step\n",
      "loss     : 0.5563336610794067\n",
      "f1_score : 0.5910852551460266\n",
      "\n",
      " classification report \n",
      "               precision    recall  f1-score   support\n",
      "\n",
      "         0.0       0.94      0.64      0.76      1055\n",
      "         1.0       0.45      0.87      0.59       350\n",
      "\n",
      "    accuracy                           0.70      1405\n",
      "   macro avg       0.69      0.76      0.68      1405\n",
      "weighted avg       0.82      0.70      0.72      1405\n",
      "\n"
     ]
    },
    {
     "data": {
      "image/png": "[encoded data removed]",
      "text/plain": [
       "<Figure size 360x360 with 2 Axes>"
      ]
     },
     "metadata": {},
     "output_type": "display_data"
    }
   ],
   "source": [
    "# Train - Validation Report\n",
    "TrValRep(history_func)\n",
    "\n",
    "# Train - Test Report\n",
    "TrTeRep(Func_Mod, X_test, y_test)"
   ]
  },
  {
   "cell_type": "markdown",
   "metadata": {},
   "source": [
    "#### 7.4 Functional Tuned Model"
   ]
  },
  {
   "cell_type": "code",
   "execution_count": 68,
   "metadata": {},
   "outputs": [
    {
     "name": "stdout",
     "output_type": "stream",
     "text": [
      "Train - Validation Performance Report\n"
     ]
    },
    {
     "data": {
      "image/png": "[encoded data removed]",
      "text/plain": [
       "<Figure size 576x360 with 1 Axes>"
      ]
     },
     "metadata": {},
     "output_type": "display_data"
    },
    {
     "name": "stdout",
     "output_type": "stream",
     "text": [
      "Train - Test Classification Report\n",
      "44/44 [==============================] - 0s 4ms/step - loss: 0.1202 - f1_score_macro: 0.4757\n",
      "44/44 [==============================] - 0s 2ms/step\n",
      "loss     : 0.12022871524095535\n",
      "f1_score : 0.4756944477558136\n",
      "\n",
      " classification report \n",
      "               precision    recall  f1-score   support\n",
      "\n",
      "         0.0       0.82      0.92      0.86      1055\n",
      "         1.0       0.61      0.39      0.48       350\n",
      "\n",
      "    accuracy                           0.79      1405\n",
      "   macro avg       0.71      0.65      0.67      1405\n",
      "weighted avg       0.77      0.79      0.77      1405\n",
      "\n"
     ]
    },
    {
     "data": {
      "image/png": "[encoded data removed]",
      "text/plain": [
       "<Figure size 360x360 with 2 Axes>"
      ]
     },
     "metadata": {},
     "output_type": "display_data"
    }
   ],
   "source": [
    "# Train - Validation Report\n",
    "TrValRep(history_functun)\n",
    "\n",
    "# Train - Test Report\n",
    "TrTeRep(FuncTun_Mod, X_test, y_test)"
   ]
  },
  {
   "cell_type": "markdown",
   "metadata": {},
   "source": [
    "Statement :<br>\n",
    "Since the composition of target is not balanced, therefore we can focus on Precision and F1_score in macro average.<br>\n",
    "The reason is putting more attention on 'about to churn' customer will help the company to prevent from customer churned.<br>\n",
    "We can see that based on scoring method mentioned before, Functional Tuned Model performed better compared to other models that have been trained."
   ]
  },
  {
   "cell_type": "markdown",
   "metadata": {},
   "source": [
    "### 8. Model Saving"
   ]
  },
  {
   "cell_type": "code",
   "execution_count": 69,
   "metadata": {},
   "outputs": [],
   "source": [
    "# Model saving\n",
    "with open('Processer.pkl', 'wb') as file_1:\n",
    "  joblib.dump(ScalEnd, file_1)\n",
    "\n",
    "FuncTun_Mod.trainable = False # Freeze the model\n",
    "FuncTun_Mod.save('PredictModel.h5')"
   ]
  },
  {
   "cell_type": "markdown",
   "metadata": {},
   "source": [
    "### 9. Model Inference"
   ]
  },
  {
   "cell_type": "code",
   "execution_count": 70,
   "metadata": {},
   "outputs": [
    {
     "name": "stdout",
     "output_type": "stream",
     "text": [
      "1/1 [==============================] - 0s 17ms/step\n"
     ]
    },
    {
     "data": {
      "text/html": [
       "<div>\n",
       "<style scoped>\n",
       "    .dataframe tbody tr th:only-of-type {\n",
       "        vertical-align: middle;\n",
       "    }\n",
       "\n",
       "    .dataframe tbody tr th {\n",
       "        vertical-align: top;\n",
       "    }\n",
       "\n",
       "    .dataframe thead th {\n",
       "        text-align: right;\n",
       "    }\n",
       "</style>\n",
       "<table border=\"1\" class=\"dataframe\">\n",
       "  <thead>\n",
       "    <tr style=\"text-align: right;\">\n",
       "      <th></th>\n",
       "      <th>gender</th>\n",
       "      <th>SeniorCitizen</th>\n",
       "      <th>Partner</th>\n",
       "      <th>Dependents</th>\n",
       "      <th>tenure</th>\n",
       "      <th>PhoneService</th>\n",
       "      <th>MultipleLines</th>\n",
       "      <th>InternetService</th>\n",
       "      <th>OnlineSecurity</th>\n",
       "      <th>OnlineBackup</th>\n",
       "      <th>...</th>\n",
       "      <th>TechSupport</th>\n",
       "      <th>StreamingTV</th>\n",
       "      <th>StreamingMovies</th>\n",
       "      <th>Contract</th>\n",
       "      <th>PaperlessBilling</th>\n",
       "      <th>PaymentMethod</th>\n",
       "      <th>MonthlyCharges</th>\n",
       "      <th>TotalCharges</th>\n",
       "      <th>Churn</th>\n",
       "      <th>Churn Predict</th>\n",
       "    </tr>\n",
       "  </thead>\n",
       "  <tbody>\n",
       "    <tr>\n",
       "      <th>0</th>\n",
       "      <td>Male</td>\n",
       "      <td>0</td>\n",
       "      <td>Yes</td>\n",
       "      <td>Yes</td>\n",
       "      <td>72</td>\n",
       "      <td>Yes</td>\n",
       "      <td>Yes</td>\n",
       "      <td>No</td>\n",
       "      <td>No internet service</td>\n",
       "      <td>No internet service</td>\n",
       "      <td>...</td>\n",
       "      <td>No internet service</td>\n",
       "      <td>No internet service</td>\n",
       "      <td>No internet service</td>\n",
       "      <td>Two year</td>\n",
       "      <td>No</td>\n",
       "      <td>Credit card (automatic)</td>\n",
       "      <td>24.75</td>\n",
       "      <td>1859.10</td>\n",
       "      <td>No</td>\n",
       "      <td>No</td>\n",
       "    </tr>\n",
       "    <tr>\n",
       "      <th>1</th>\n",
       "      <td>Female</td>\n",
       "      <td>1</td>\n",
       "      <td>Yes</td>\n",
       "      <td>No</td>\n",
       "      <td>16</td>\n",
       "      <td>Yes</td>\n",
       "      <td>Yes</td>\n",
       "      <td>Fiber optic</td>\n",
       "      <td>No</td>\n",
       "      <td>No</td>\n",
       "      <td>...</td>\n",
       "      <td>No</td>\n",
       "      <td>No</td>\n",
       "      <td>Yes</td>\n",
       "      <td>Month-to-month</td>\n",
       "      <td>Yes</td>\n",
       "      <td>Credit card (automatic)</td>\n",
       "      <td>85.35</td>\n",
       "      <td>1375.15</td>\n",
       "      <td>Yes</td>\n",
       "      <td>Yes</td>\n",
       "    </tr>\n",
       "    <tr>\n",
       "      <th>2</th>\n",
       "      <td>Female</td>\n",
       "      <td>0</td>\n",
       "      <td>No</td>\n",
       "      <td>No</td>\n",
       "      <td>63</td>\n",
       "      <td>Yes</td>\n",
       "      <td>Yes</td>\n",
       "      <td>Fiber optic</td>\n",
       "      <td>No</td>\n",
       "      <td>Yes</td>\n",
       "      <td>...</td>\n",
       "      <td>No</td>\n",
       "      <td>Yes</td>\n",
       "      <td>Yes</td>\n",
       "      <td>Two year</td>\n",
       "      <td>No</td>\n",
       "      <td>Bank transfer (automatic)</td>\n",
       "      <td>97.45</td>\n",
       "      <td>6253.00</td>\n",
       "      <td>No</td>\n",
       "      <td>No</td>\n",
       "    </tr>\n",
       "    <tr>\n",
       "      <th>3</th>\n",
       "      <td>Female</td>\n",
       "      <td>0</td>\n",
       "      <td>No</td>\n",
       "      <td>No</td>\n",
       "      <td>9</td>\n",
       "      <td>Yes</td>\n",
       "      <td>Yes</td>\n",
       "      <td>Fiber optic</td>\n",
       "      <td>No</td>\n",
       "      <td>No</td>\n",
       "      <td>...</td>\n",
       "      <td>No</td>\n",
       "      <td>No</td>\n",
       "      <td>No</td>\n",
       "      <td>Month-to-month</td>\n",
       "      <td>Yes</td>\n",
       "      <td>Electronic check</td>\n",
       "      <td>76.85</td>\n",
       "      <td>663.55</td>\n",
       "      <td>No</td>\n",
       "      <td>Yes</td>\n",
       "    </tr>\n",
       "    <tr>\n",
       "      <th>4</th>\n",
       "      <td>Female</td>\n",
       "      <td>0</td>\n",
       "      <td>No</td>\n",
       "      <td>No</td>\n",
       "      <td>13</td>\n",
       "      <td>Yes</td>\n",
       "      <td>No</td>\n",
       "      <td>Fiber optic</td>\n",
       "      <td>No</td>\n",
       "      <td>Yes</td>\n",
       "      <td>...</td>\n",
       "      <td>No</td>\n",
       "      <td>No</td>\n",
       "      <td>No</td>\n",
       "      <td>Month-to-month</td>\n",
       "      <td>Yes</td>\n",
       "      <td>Electronic check</td>\n",
       "      <td>81.15</td>\n",
       "      <td>952.30</td>\n",
       "      <td>Yes</td>\n",
       "      <td>No</td>\n",
       "    </tr>\n",
       "    <tr>\n",
       "      <th>5</th>\n",
       "      <td>Male</td>\n",
       "      <td>0</td>\n",
       "      <td>No</td>\n",
       "      <td>No</td>\n",
       "      <td>2</td>\n",
       "      <td>Yes</td>\n",
       "      <td>No</td>\n",
       "      <td>Fiber optic</td>\n",
       "      <td>No</td>\n",
       "      <td>No</td>\n",
       "      <td>...</td>\n",
       "      <td>No</td>\n",
       "      <td>No</td>\n",
       "      <td>No</td>\n",
       "      <td>Month-to-month</td>\n",
       "      <td>Yes</td>\n",
       "      <td>Electronic check</td>\n",
       "      <td>70.30</td>\n",
       "      <td>144.00</td>\n",
       "      <td>No</td>\n",
       "      <td>Yes</td>\n",
       "    </tr>\n",
       "    <tr>\n",
       "      <th>6</th>\n",
       "      <td>Male</td>\n",
       "      <td>0</td>\n",
       "      <td>No</td>\n",
       "      <td>Yes</td>\n",
       "      <td>30</td>\n",
       "      <td>No</td>\n",
       "      <td>No phone service</td>\n",
       "      <td>DSL</td>\n",
       "      <td>No</td>\n",
       "      <td>No</td>\n",
       "      <td>...</td>\n",
       "      <td>No</td>\n",
       "      <td>Yes</td>\n",
       "      <td>Yes</td>\n",
       "      <td>Month-to-month</td>\n",
       "      <td>Yes</td>\n",
       "      <td>Electronic check</td>\n",
       "      <td>44.50</td>\n",
       "      <td>1307.80</td>\n",
       "      <td>No</td>\n",
       "      <td>No</td>\n",
       "    </tr>\n",
       "    <tr>\n",
       "      <th>7</th>\n",
       "      <td>Female</td>\n",
       "      <td>1</td>\n",
       "      <td>Yes</td>\n",
       "      <td>No</td>\n",
       "      <td>47</td>\n",
       "      <td>Yes</td>\n",
       "      <td>Yes</td>\n",
       "      <td>Fiber optic</td>\n",
       "      <td>Yes</td>\n",
       "      <td>No</td>\n",
       "      <td>...</td>\n",
       "      <td>No</td>\n",
       "      <td>No</td>\n",
       "      <td>No</td>\n",
       "      <td>Month-to-month</td>\n",
       "      <td>No</td>\n",
       "      <td>Electronic check</td>\n",
       "      <td>80.35</td>\n",
       "      <td>3825.85</td>\n",
       "      <td>Yes</td>\n",
       "      <td>No</td>\n",
       "    </tr>\n",
       "    <tr>\n",
       "      <th>8</th>\n",
       "      <td>Female</td>\n",
       "      <td>0</td>\n",
       "      <td>No</td>\n",
       "      <td>Yes</td>\n",
       "      <td>35</td>\n",
       "      <td>Yes</td>\n",
       "      <td>No</td>\n",
       "      <td>DSL</td>\n",
       "      <td>Yes</td>\n",
       "      <td>Yes</td>\n",
       "      <td>...</td>\n",
       "      <td>No</td>\n",
       "      <td>No</td>\n",
       "      <td>No</td>\n",
       "      <td>One year</td>\n",
       "      <td>No</td>\n",
       "      <td>Credit card (automatic)</td>\n",
       "      <td>55.60</td>\n",
       "      <td>2016.45</td>\n",
       "      <td>No</td>\n",
       "      <td>No</td>\n",
       "    </tr>\n",
       "    <tr>\n",
       "      <th>9</th>\n",
       "      <td>Male</td>\n",
       "      <td>1</td>\n",
       "      <td>Yes</td>\n",
       "      <td>Yes</td>\n",
       "      <td>32</td>\n",
       "      <td>Yes</td>\n",
       "      <td>No</td>\n",
       "      <td>Fiber optic</td>\n",
       "      <td>No</td>\n",
       "      <td>Yes</td>\n",
       "      <td>...</td>\n",
       "      <td>No</td>\n",
       "      <td>Yes</td>\n",
       "      <td>Yes</td>\n",
       "      <td>Month-to-month</td>\n",
       "      <td>Yes</td>\n",
       "      <td>Mailed check</td>\n",
       "      <td>93.95</td>\n",
       "      <td>2861.45</td>\n",
       "      <td>No</td>\n",
       "      <td>No</td>\n",
       "    </tr>\n",
       "  </tbody>\n",
       "</table>\n",
       "<p>10 rows × 21 columns</p>\n",
       "</div>"
      ],
      "text/plain": [
       "   gender  SeniorCitizen Partner Dependents  tenure PhoneService  \\\n",
       "0    Male              0     Yes        Yes      72          Yes   \n",
       "1  Female              1     Yes         No      16          Yes   \n",
       "2  Female              0      No         No      63          Yes   \n",
       "3  Female              0      No         No       9          Yes   \n",
       "4  Female              0      No         No      13          Yes   \n",
       "5    Male              0      No         No       2          Yes   \n",
       "6    Male              0      No        Yes      30           No   \n",
       "7  Female              1     Yes         No      47          Yes   \n",
       "8  Female              0      No        Yes      35          Yes   \n",
       "9    Male              1     Yes        Yes      32          Yes   \n",
       "\n",
       "      MultipleLines InternetService       OnlineSecurity         OnlineBackup  \\\n",
       "0               Yes              No  No internet service  No internet service   \n",
       "1               Yes     Fiber optic                   No                   No   \n",
       "2               Yes     Fiber optic                   No                  Yes   \n",
       "3               Yes     Fiber optic                   No                   No   \n",
       "4                No     Fiber optic                   No                  Yes   \n",
       "5                No     Fiber optic                   No                   No   \n",
       "6  No phone service             DSL                   No                   No   \n",
       "7               Yes     Fiber optic                  Yes                   No   \n",
       "8                No             DSL                  Yes                  Yes   \n",
       "9                No     Fiber optic                   No                  Yes   \n",
       "\n",
       "   ...          TechSupport          StreamingTV      StreamingMovies  \\\n",
       "0  ...  No internet service  No internet service  No internet service   \n",
       "1  ...                   No                   No                  Yes   \n",
       "2  ...                   No                  Yes                  Yes   \n",
       "3  ...                   No                   No                   No   \n",
       "4  ...                   No                   No                   No   \n",
       "5  ...                   No                   No                   No   \n",
       "6  ...                   No                  Yes                  Yes   \n",
       "7  ...                   No                   No                   No   \n",
       "8  ...                   No                   No                   No   \n",
       "9  ...                   No                  Yes                  Yes   \n",
       "\n",
       "         Contract PaperlessBilling              PaymentMethod MonthlyCharges  \\\n",
       "0        Two year               No    Credit card (automatic)          24.75   \n",
       "1  Month-to-month              Yes    Credit card (automatic)          85.35   \n",
       "2        Two year               No  Bank transfer (automatic)          97.45   \n",
       "3  Month-to-month              Yes           Electronic check          76.85   \n",
       "4  Month-to-month              Yes           Electronic check          81.15   \n",
       "5  Month-to-month              Yes           Electronic check          70.30   \n",
       "6  Month-to-month              Yes           Electronic check          44.50   \n",
       "7  Month-to-month               No           Electronic check          80.35   \n",
       "8        One year               No    Credit card (automatic)          55.60   \n",
       "9  Month-to-month              Yes               Mailed check          93.95   \n",
       "\n",
       "   TotalCharges  Churn Churn Predict  \n",
       "0       1859.10     No            No  \n",
       "1       1375.15    Yes           Yes  \n",
       "2       6253.00     No            No  \n",
       "3        663.55     No           Yes  \n",
       "4        952.30    Yes            No  \n",
       "5        144.00     No           Yes  \n",
       "6       1307.80     No            No  \n",
       "7       3825.85    Yes            No  \n",
       "8       2016.45     No            No  \n",
       "9       2861.45     No            No  \n",
       "\n",
       "[10 rows x 21 columns]"
      ]
     },
     "execution_count": 70,
     "metadata": {},
     "output_type": "execute_result"
    }
   ],
   "source": [
    "# Preprocess the inference data using pipeline\n",
    "data_inf_processed = ScalEnd.transform(data_inf)\n",
    "\n",
    "# Predict using Gradient Boost Base Model\n",
    "y_pred_inf = FuncTun_Mod.predict(data_inf_processed)\n",
    "y_pred_inf = np.where(y_pred_inf >= 0.5, 1, 0)\n",
    "y_pred_inf_df = (pd.DataFrame(y_pred_inf, columns = ['Churn Predict']))\n",
    "y_pred_inf_df = y_pred_inf_df['Churn Predict'].map({0 : 'No', 1 : 'Yes'})\n",
    "\n",
    "pd.concat([data_inf, y_pred_inf_df], axis = 1)"
   ]
  },
  {
   "cell_type": "markdown",
   "metadata": {},
   "source": [
    "#### 10. Conclusions\n",
    "##### EDA\n",
    "1. Most customers pay monthly contract. While the most profitable payments contract is yearly contract ( since the company obtain a larger amount of fresh cash in short time ), added bonus on yearly contract will surely increase the number of customers who paid for yearly contract.\n",
    "2. Most of customers last either in very short of time period or very long time period.\n",
    "3. Based on Churned Status ratio, we can clearly that Senior Citizen are more likely to churned compared to Younger Citizen. \n",
    "4. Giving discounts to new customers in order to make them do yearly contract payments will surely reduce the number of churned customers, or at least increase revenue.\n",
    "##### Model\n",
    "1. Column that greatly affects churn possibility are tenure, TotalCharges, MonthlyCharges, Contract, OnlineSecurity, TechSupport, OnlineBackup, DeviceProtection, SeniorCitizen, and Dependents.\n",
    "2. Functional Tuned Model succeeded in creating the best model for this type of data from all the experiments that have been done.\n",
    "3. After more than 50 times of parameters tuning, I can say that Artificial Neural Network isn't very suitable for this type of classification data. Besides that, small data set with target imbalance contribute to a greater problem. Undersampling data won't be performed since the data set is relatively small, yet oversampling will only increase the data bias. A larger data set is needed here."
   ]
  }
 ],
 "metadata": {
  "kernelspec": {
   "display_name": "Python 3.9.12 ('base')",
   "language": "python",
   "name": "python3"
  },
  "language_info": {
   "codemirror_mode": {
    "name": "ipython",
    "version": 3
   },
   "file_extension": ".py",
   "mimetype": "text/x-python",
   "name": "python",
   "nbconvert_exporter": "python",
   "pygments_lexer": "ipython3",
   "version": "3.9.13 (main, Aug 25 2022, 23:51:50) [MSC v.1916 64 bit (AMD64)]"
  },
  "orig_nbformat": 4,
  "vscode": {
   "interpreter": {
    "hash": "db73a3f725d25edc1898cf086846c00279f921a2aff9b8dd881a6ae47174c5ed"
   }
  }
 },
 "nbformat": 4,
 "nbformat_minor": 2
}
